{
 "cells": [
  {
   "cell_type": "code",
   "execution_count": 1,
   "id": "d4d2ffdb",
   "metadata": {
    "execution": {
     "iopub.execute_input": "2023-05-04T03:26:43.890679Z",
     "iopub.status.busy": "2023-05-04T03:26:43.889886Z",
     "iopub.status.idle": "2023-05-04T03:26:50.760787Z",
     "shell.execute_reply": "2023-05-04T03:26:50.759757Z"
    },
    "papermill": {
     "duration": 6.881148,
     "end_time": "2023-05-04T03:26:50.763922",
     "exception": false,
     "start_time": "2023-05-04T03:26:43.882774",
     "status": "completed"
    },
    "tags": []
   },
   "outputs": [],
   "source": [
    "import os\n",
    "import sys\n",
    "import numpy as np\n",
    "import pandas as pd\n",
    "from pathlib import Path\n",
    "\n",
    "import torch\n",
    "from torch import nn\n",
    "import torchvision\n",
    "from torchvision.models import resnet34\n",
    "from torchvision import transforms, datasets\n",
    "\n",
    "from PIL import Image\n",
    "\n",
    "sys.path.append('../../data/sentence-transformers-222/sentence-transformers')\n",
    "from sentence_transformers import SentenceTransformer, models\n",
    "\n",
    "DEVICE = torch.device(\"cuda\" if torch.cuda.is_available() else \"cpu\")\n",
    "\n",
    "comp_path = Path('../../data/stable-diffusion-image-to-prompts/')\n",
    "\n",
    "sample_submission = pd.read_csv(comp_path / 'sample_submission.csv', index_col='imgId_eId')\n",
    "sample_submission.head()\n",
    "\n",
    "images = os.listdir(comp_path / 'images')\n",
    "imgIds = [i.split('.')[0] for i in images]\n",
    "\n",
    "EMBEDDING_LENGTH = 384\n",
    "TOTAL_IMAGES = len(imgIds)\n",
    "eIds = list(range(EMBEDDING_LENGTH))\n",
    "\n",
    "imgId_eId = [\n",
    "    '_'.join(map(str, i)) for i in zip(\n",
    "        np.repeat(imgIds, EMBEDDING_LENGTH),\n",
    "        np.tile(range(EMBEDDING_LENGTH), len(imgIds)))]\n",
    "\n",
    "assert sorted(imgId_eId) == sorted(sample_submission.index)"
   ]
  },
  {
   "cell_type": "code",
   "execution_count": 2,
   "id": "46135285",
   "metadata": {
    "execution": {
     "iopub.execute_input": "2023-05-04T03:26:50.773109Z",
     "iopub.status.busy": "2023-05-04T03:26:50.772660Z",
     "iopub.status.idle": "2023-05-04T03:26:57.537226Z",
     "shell.execute_reply": "2023-05-04T03:26:57.535942Z"
    },
    "papermill": {
     "duration": 6.772603,
     "end_time": "2023-05-04T03:26:57.540443",
     "exception": false,
     "start_time": "2023-05-04T03:26:50.767840",
     "status": "completed"
    },
    "tags": []
   },
   "outputs": [],
   "source": [
    "st_model = SentenceTransformer('../../data/sentence-transformers-222/all-MiniLM-L6-v2').to(DEVICE)"
   ]
  },
  {
   "cell_type": "code",
   "execution_count": 3,
   "id": "7ff3abe1",
   "metadata": {
    "execution": {
     "iopub.execute_input": "2023-05-04T03:26:57.550630Z",
     "iopub.status.busy": "2023-05-04T03:26:57.549061Z",
     "iopub.status.idle": "2023-05-04T03:26:57.557034Z",
     "shell.execute_reply": "2023-05-04T03:26:57.556103Z"
    },
    "papermill": {
     "duration": 0.015119,
     "end_time": "2023-05-04T03:26:57.559326",
     "exception": false,
     "start_time": "2023-05-04T03:26:57.544207",
     "status": "completed"
    },
    "tags": []
   },
   "outputs": [],
   "source": [
    "class DiffusionImageDataset(torch.utils.data.Dataset):\n",
    "    def __init__(self, data_path, prompts=None, transform=None):\n",
    "        self.image_paths = [\n",
    "            str(name) for name in data_path.iterdir()\n",
    "        ]\n",
    "        self.prompts = prompts\n",
    "        self.transform = transform\n",
    "    \n",
    "    def __len__(self):\n",
    "        return len(self.image_paths)\n",
    "    \n",
    "    def __getitem__(self, idx):\n",
    "        x = Image.open(self.image_paths[idx])\n",
    "        if self.transform:\n",
    "            x = self.transform(x)\n",
    "        \n",
    "        if self.prompts:\n",
    "            return x, self.prompts[idx]\n",
    "        else:\n",
    "            return x"
   ]
  },
  {
   "cell_type": "code",
   "execution_count": 4,
   "id": "d4da5578",
   "metadata": {
    "execution": {
     "iopub.execute_input": "2023-05-04T03:26:57.567949Z",
     "iopub.status.busy": "2023-05-04T03:26:57.567189Z",
     "iopub.status.idle": "2023-05-04T03:26:57.574548Z",
     "shell.execute_reply": "2023-05-04T03:26:57.573672Z"
    },
    "papermill": {
     "duration": 0.013901,
     "end_time": "2023-05-04T03:26:57.576650",
     "exception": false,
     "start_time": "2023-05-04T03:26:57.562749",
     "status": "completed"
    },
    "tags": []
   },
   "outputs": [],
   "source": [
    "BATCH_SIZE = 32\n",
    "data_path = comp_path / 'images'\n",
    "\n",
    "test_transform = transforms.Compose([transforms.ToTensor()])\n",
    "test_dataset = DiffusionImageDataset(data_path, transform=test_transform)\n",
    "test_loader = torch.utils.data.DataLoader(test_dataset, batch_size=BATCH_SIZE, num_workers=1,\n",
    "                                        shuffle=False)"
   ]
  },
  {
   "cell_type": "code",
   "execution_count": 5,
   "id": "36be1660",
   "metadata": {
    "execution": {
     "iopub.execute_input": "2023-05-04T03:26:57.585525Z",
     "iopub.status.busy": "2023-05-04T03:26:57.584041Z",
     "iopub.status.idle": "2023-05-04T03:27:29.513057Z",
     "shell.execute_reply": "2023-05-04T03:27:29.511859Z"
    },
    "papermill": {
     "duration": 31.935736,
     "end_time": "2023-05-04T03:27:29.515695",
     "exception": false,
     "start_time": "2023-05-04T03:26:57.579959",
     "status": "completed"
    },
    "tags": []
   },
   "outputs": [],
   "source": [
    "from transformers import AutoProcessor, BlipForConditionalGeneration\n",
    "\n",
    "processor = AutoProcessor.from_pretrained(\"../../data/image-caption-models/blip-image-captioning-large\")\n",
    "model = BlipForConditionalGeneration.from_pretrained(\"../../data/image-caption-models/blip-image-captioning-large\").to(\"cuda\")"
   ]
  },
  {
   "cell_type": "code",
   "execution_count": 6,
   "id": "5ce8e451",
   "metadata": {
    "execution": {
     "iopub.execute_input": "2023-05-04T03:27:29.524096Z",
     "iopub.status.busy": "2023-05-04T03:27:29.523766Z",
     "iopub.status.idle": "2023-05-04T03:27:29.530886Z",
     "shell.execute_reply": "2023-05-04T03:27:29.529957Z"
    },
    "papermill": {
     "duration": 0.013754,
     "end_time": "2023-05-04T03:27:29.533035",
     "exception": false,
     "start_time": "2023-05-04T03:27:29.519281",
     "status": "completed"
    },
    "tags": []
   },
   "outputs": [],
   "source": [
    "def get_prompts(model, processor, data_iter):\n",
    "    prompts = []\n",
    "    with torch.no_grad():\n",
    "        for images in data_iter:\n",
    "            inputs = processor(images=images, return_tensors=\"pt\").to(\"cuda\")\n",
    "            generated_ids = model.generate(**inputs)\n",
    "            preds = processor.batch_decode(generated_ids, skip_special_tokens=True)\n",
    "            \n",
    "            prompts.extend([pred.rstrip() for pred in preds])\n",
    "    \n",
    "    return prompts"
   ]
  },
  {
   "cell_type": "code",
   "execution_count": 7,
   "id": "e42d330e",
   "metadata": {
    "execution": {
     "iopub.execute_input": "2023-05-04T03:27:29.540730Z",
     "iopub.status.busy": "2023-05-04T03:27:29.540457Z",
     "iopub.status.idle": "2023-05-04T03:27:39.931113Z",
     "shell.execute_reply": "2023-05-04T03:27:39.929804Z"
    },
    "papermill": {
     "duration": 10.397693,
     "end_time": "2023-05-04T03:27:39.933979",
     "exception": false,
     "start_time": "2023-05-04T03:27:29.536286",
     "status": "completed"
    },
    "tags": []
   },
   "outputs": [
    {
     "name": "stderr",
     "output_type": "stream",
     "text": [
      "/opt/conda/lib/python3.7/site-packages/transformers/generation/utils.py:1292: UserWarning: Using `max_length`'s default (20) to control the generation length. This behaviour is deprecated and will be removed from the config in v5 of Transformers -- we recommend using `max_new_tokens` to control the maximum length of the generation.\n",
      "  UserWarning,\n"
     ]
    },
    {
     "data": {
      "application/vnd.jupyter.widget-view+json": {
       "model_id": "4b9a27d5ed4f4c54a6a2e0c9c8c98367",
       "version_major": 2,
       "version_minor": 0
      },
      "text/plain": [
       "Batches:   0%|          | 0/1 [00:00<?, ?it/s]"
      ]
     },
     "metadata": {},
     "output_type": "display_data"
    },
    {
     "data": {
      "text/html": [
       "<div>\n",
       "<style scoped>\n",
       "    .dataframe tbody tr th:only-of-type {\n",
       "        vertical-align: middle;\n",
       "    }\n",
       "\n",
       "    .dataframe tbody tr th {\n",
       "        vertical-align: top;\n",
       "    }\n",
       "\n",
       "    .dataframe thead th {\n",
       "        text-align: right;\n",
       "    }\n",
       "</style>\n",
       "<table border=\"1\" class=\"dataframe\">\n",
       "  <thead>\n",
       "    <tr style=\"text-align: right;\">\n",
       "      <th></th>\n",
       "      <th>val</th>\n",
       "    </tr>\n",
       "    <tr>\n",
       "      <th>imgId_eId</th>\n",
       "      <th></th>\n",
       "    </tr>\n",
       "  </thead>\n",
       "  <tbody>\n",
       "    <tr>\n",
       "      <th>f27825b2c_0</th>\n",
       "      <td>-0.020460</td>\n",
       "    </tr>\n",
       "    <tr>\n",
       "      <th>f27825b2c_1</th>\n",
       "      <td>0.083382</td>\n",
       "    </tr>\n",
       "    <tr>\n",
       "      <th>f27825b2c_2</th>\n",
       "      <td>-0.068206</td>\n",
       "    </tr>\n",
       "    <tr>\n",
       "      <th>f27825b2c_3</th>\n",
       "      <td>-0.043487</td>\n",
       "    </tr>\n",
       "    <tr>\n",
       "      <th>f27825b2c_4</th>\n",
       "      <td>-0.005878</td>\n",
       "    </tr>\n",
       "  </tbody>\n",
       "</table>\n",
       "</div>"
      ],
      "text/plain": [
       "                  val\n",
       "imgId_eId            \n",
       "f27825b2c_0 -0.020460\n",
       "f27825b2c_1  0.083382\n",
       "f27825b2c_2 -0.068206\n",
       "f27825b2c_3 -0.043487\n",
       "f27825b2c_4 -0.005878"
      ]
     },
     "execution_count": 7,
     "metadata": {},
     "output_type": "execute_result"
    }
   ],
   "source": [
    "prompts = get_prompts(model, processor, test_loader)\n",
    "prompt_embeddings = st_model.encode(prompts).flatten()\n",
    "submission = pd.DataFrame(\n",
    "                index=imgId_eId,\n",
    "                data=prompt_embeddings,\n",
    "                columns=['val']).rename_axis('imgId_eId')\n",
    "\n",
    "submission.head()"
   ]
  },
  {
   "cell_type": "code",
   "execution_count": 9,
   "id": "88d0cee8",
   "metadata": {
    "execution": {
     "iopub.execute_input": "2023-05-04T03:27:39.959029Z",
     "iopub.status.busy": "2023-05-04T03:27:39.958743Z",
     "iopub.status.idle": "2023-05-04T03:27:39.969339Z",
     "shell.execute_reply": "2023-05-04T03:27:39.968458Z"
    },
    "papermill": {
     "duration": 0.017204,
     "end_time": "2023-05-04T03:27:39.971520",
     "exception": false,
     "start_time": "2023-05-04T03:27:39.954316",
     "status": "completed"
    },
    "tags": []
   },
   "outputs": [],
   "source": [
    "submission.to_csv('submission.csv')"
   ]
  }
 ],
 "metadata": {
  "kernelspec": {
   "display_name": "Python 3",
   "language": "python",
   "name": "python3"
  },
  "language_info": {
   "codemirror_mode": {
    "name": "ipython",
    "version": 3
   },
   "file_extension": ".py",
   "mimetype": "text/x-python",
   "name": "python",
   "nbconvert_exporter": "python",
   "pygments_lexer": "ipython3",
   "version": "3.7.12"
  },
  "papermill": {
   "default_parameters": {},
   "duration": 70.034725,
   "end_time": "2023-05-04T03:27:43.558362",
   "environment_variables": {},
   "exception": null,
   "input_path": "__notebook__.ipynb",
   "output_path": "__notebook__.ipynb",
   "parameters": {},
   "start_time": "2023-05-04T03:26:33.523637",
   "version": "2.4.0"
  },
  "widgets": {
   "application/vnd.jupyter.widget-state+json": {
    "state": {
     "14d05aae1a2346e7baac3b00a8dfa97d": {
      "model_module": "@jupyter-widgets/base",
      "model_module_version": "1.2.0",
      "model_name": "LayoutModel",
      "state": {
       "_model_module": "@jupyter-widgets/base",
       "_model_module_version": "1.2.0",
       "_model_name": "LayoutModel",
       "_view_count": null,
       "_view_module": "@jupyter-widgets/base",
       "_view_module_version": "1.2.0",
       "_view_name": "LayoutView",
       "align_content": null,
       "align_items": null,
       "align_self": null,
       "border": null,
       "bottom": null,
       "display": null,
       "flex": null,
       "flex_flow": null,
       "grid_area": null,
       "grid_auto_columns": null,
       "grid_auto_flow": null,
       "grid_auto_rows": null,
       "grid_column": null,
       "grid_gap": null,
       "grid_row": null,
       "grid_template_areas": null,
       "grid_template_columns": null,
       "grid_template_rows": null,
       "height": null,
       "justify_content": null,
       "justify_items": null,
       "left": null,
       "margin": null,
       "max_height": null,
       "max_width": null,
       "min_height": null,
       "min_width": null,
       "object_fit": null,
       "object_position": null,
       "order": null,
       "overflow": null,
       "overflow_x": null,
       "overflow_y": null,
       "padding": null,
       "right": null,
       "top": null,
       "visibility": null,
       "width": null
      }
     },
     "1ceaaf82cac043bdbc74267dd77fbf34": {
      "model_module": "@jupyter-widgets/base",
      "model_module_version": "1.2.0",
      "model_name": "LayoutModel",
      "state": {
       "_model_module": "@jupyter-widgets/base",
       "_model_module_version": "1.2.0",
       "_model_name": "LayoutModel",
       "_view_count": null,
       "_view_module": "@jupyter-widgets/base",
       "_view_module_version": "1.2.0",
       "_view_name": "LayoutView",
       "align_content": null,
       "align_items": null,
       "align_self": null,
       "border": null,
       "bottom": null,
       "display": null,
       "flex": null,
       "flex_flow": null,
       "grid_area": null,
       "grid_auto_columns": null,
       "grid_auto_flow": null,
       "grid_auto_rows": null,
       "grid_column": null,
       "grid_gap": null,
       "grid_row": null,
       "grid_template_areas": null,
       "grid_template_columns": null,
       "grid_template_rows": null,
       "height": null,
       "justify_content": null,
       "justify_items": null,
       "left": null,
       "margin": null,
       "max_height": null,
       "max_width": null,
       "min_height": null,
       "min_width": null,
       "object_fit": null,
       "object_position": null,
       "order": null,
       "overflow": null,
       "overflow_x": null,
       "overflow_y": null,
       "padding": null,
       "right": null,
       "top": null,
       "visibility": null,
       "width": null
      }
     },
     "3d77683c2d53464c9993aed577862783": {
      "model_module": "@jupyter-widgets/base",
      "model_module_version": "1.2.0",
      "model_name": "LayoutModel",
      "state": {
       "_model_module": "@jupyter-widgets/base",
       "_model_module_version": "1.2.0",
       "_model_name": "LayoutModel",
       "_view_count": null,
       "_view_module": "@jupyter-widgets/base",
       "_view_module_version": "1.2.0",
       "_view_name": "LayoutView",
       "align_content": null,
       "align_items": null,
       "align_self": null,
       "border": null,
       "bottom": null,
       "display": null,
       "flex": null,
       "flex_flow": null,
       "grid_area": null,
       "grid_auto_columns": null,
       "grid_auto_flow": null,
       "grid_auto_rows": null,
       "grid_column": null,
       "grid_gap": null,
       "grid_row": null,
       "grid_template_areas": null,
       "grid_template_columns": null,
       "grid_template_rows": null,
       "height": null,
       "justify_content": null,
       "justify_items": null,
       "left": null,
       "margin": null,
       "max_height": null,
       "max_width": null,
       "min_height": null,
       "min_width": null,
       "object_fit": null,
       "object_position": null,
       "order": null,
       "overflow": null,
       "overflow_x": null,
       "overflow_y": null,
       "padding": null,
       "right": null,
       "top": null,
       "visibility": null,
       "width": null
      }
     },
     "44c70e67d9a34c3fa183dc968f84c8d5": {
      "model_module": "@jupyter-widgets/controls",
      "model_module_version": "1.5.0",
      "model_name": "HTMLModel",
      "state": {
       "_dom_classes": [],
       "_model_module": "@jupyter-widgets/controls",
       "_model_module_version": "1.5.0",
       "_model_name": "HTMLModel",
       "_view_count": null,
       "_view_module": "@jupyter-widgets/controls",
       "_view_module_version": "1.5.0",
       "_view_name": "HTMLView",
       "description": "",
       "description_tooltip": null,
       "layout": "IPY_MODEL_14d05aae1a2346e7baac3b00a8dfa97d",
       "placeholder": "​",
       "style": "IPY_MODEL_5da52ce72bbd4ec880aa056bab161d42",
       "value": "Batches: 100%"
      }
     },
     "4b9a27d5ed4f4c54a6a2e0c9c8c98367": {
      "model_module": "@jupyter-widgets/controls",
      "model_module_version": "1.5.0",
      "model_name": "HBoxModel",
      "state": {
       "_dom_classes": [],
       "_model_module": "@jupyter-widgets/controls",
       "_model_module_version": "1.5.0",
       "_model_name": "HBoxModel",
       "_view_count": null,
       "_view_module": "@jupyter-widgets/controls",
       "_view_module_version": "1.5.0",
       "_view_name": "HBoxView",
       "box_style": "",
       "children": [
        "IPY_MODEL_44c70e67d9a34c3fa183dc968f84c8d5",
        "IPY_MODEL_e71a031e8f704e4a9c5935bc89efac23",
        "IPY_MODEL_ac4ba539df3849e5916fe11cdfe1e2b7"
       ],
       "layout": "IPY_MODEL_3d77683c2d53464c9993aed577862783"
      }
     },
     "5da52ce72bbd4ec880aa056bab161d42": {
      "model_module": "@jupyter-widgets/controls",
      "model_module_version": "1.5.0",
      "model_name": "DescriptionStyleModel",
      "state": {
       "_model_module": "@jupyter-widgets/controls",
       "_model_module_version": "1.5.0",
       "_model_name": "DescriptionStyleModel",
       "_view_count": null,
       "_view_module": "@jupyter-widgets/base",
       "_view_module_version": "1.2.0",
       "_view_name": "StyleView",
       "description_width": ""
      }
     },
     "937b0d29573741e690a1a5085dbe524f": {
      "model_module": "@jupyter-widgets/controls",
      "model_module_version": "1.5.0",
      "model_name": "ProgressStyleModel",
      "state": {
       "_model_module": "@jupyter-widgets/controls",
       "_model_module_version": "1.5.0",
       "_model_name": "ProgressStyleModel",
       "_view_count": null,
       "_view_module": "@jupyter-widgets/base",
       "_view_module_version": "1.2.0",
       "_view_name": "StyleView",
       "bar_color": null,
       "description_width": ""
      }
     },
     "ac4ba539df3849e5916fe11cdfe1e2b7": {
      "model_module": "@jupyter-widgets/controls",
      "model_module_version": "1.5.0",
      "model_name": "HTMLModel",
      "state": {
       "_dom_classes": [],
       "_model_module": "@jupyter-widgets/controls",
       "_model_module_version": "1.5.0",
       "_model_name": "HTMLModel",
       "_view_count": null,
       "_view_module": "@jupyter-widgets/controls",
       "_view_module_version": "1.5.0",
       "_view_name": "HTMLView",
       "description": "",
       "description_tooltip": null,
       "layout": "IPY_MODEL_d4e4b58da8824a2485d7d245a88fb6f5",
       "placeholder": "​",
       "style": "IPY_MODEL_da9326b8b83d437886af606540f6646e",
       "value": " 1/1 [00:00&lt;00:00, 22.70it/s]"
      }
     },
     "d4e4b58da8824a2485d7d245a88fb6f5": {
      "model_module": "@jupyter-widgets/base",
      "model_module_version": "1.2.0",
      "model_name": "LayoutModel",
      "state": {
       "_model_module": "@jupyter-widgets/base",
       "_model_module_version": "1.2.0",
       "_model_name": "LayoutModel",
       "_view_count": null,
       "_view_module": "@jupyter-widgets/base",
       "_view_module_version": "1.2.0",
       "_view_name": "LayoutView",
       "align_content": null,
       "align_items": null,
       "align_self": null,
       "border": null,
       "bottom": null,
       "display": null,
       "flex": null,
       "flex_flow": null,
       "grid_area": null,
       "grid_auto_columns": null,
       "grid_auto_flow": null,
       "grid_auto_rows": null,
       "grid_column": null,
       "grid_gap": null,
       "grid_row": null,
       "grid_template_areas": null,
       "grid_template_columns": null,
       "grid_template_rows": null,
       "height": null,
       "justify_content": null,
       "justify_items": null,
       "left": null,
       "margin": null,
       "max_height": null,
       "max_width": null,
       "min_height": null,
       "min_width": null,
       "object_fit": null,
       "object_position": null,
       "order": null,
       "overflow": null,
       "overflow_x": null,
       "overflow_y": null,
       "padding": null,
       "right": null,
       "top": null,
       "visibility": null,
       "width": null
      }
     },
     "da9326b8b83d437886af606540f6646e": {
      "model_module": "@jupyter-widgets/controls",
      "model_module_version": "1.5.0",
      "model_name": "DescriptionStyleModel",
      "state": {
       "_model_module": "@jupyter-widgets/controls",
       "_model_module_version": "1.5.0",
       "_model_name": "DescriptionStyleModel",
       "_view_count": null,
       "_view_module": "@jupyter-widgets/base",
       "_view_module_version": "1.2.0",
       "_view_name": "StyleView",
       "description_width": ""
      }
     },
     "e71a031e8f704e4a9c5935bc89efac23": {
      "model_module": "@jupyter-widgets/controls",
      "model_module_version": "1.5.0",
      "model_name": "FloatProgressModel",
      "state": {
       "_dom_classes": [],
       "_model_module": "@jupyter-widgets/controls",
       "_model_module_version": "1.5.0",
       "_model_name": "FloatProgressModel",
       "_view_count": null,
       "_view_module": "@jupyter-widgets/controls",
       "_view_module_version": "1.5.0",
       "_view_name": "ProgressView",
       "bar_style": "success",
       "description": "",
       "description_tooltip": null,
       "layout": "IPY_MODEL_1ceaaf82cac043bdbc74267dd77fbf34",
       "max": 1,
       "min": 0,
       "orientation": "horizontal",
       "style": "IPY_MODEL_937b0d29573741e690a1a5085dbe524f",
       "value": 1
      }
     }
    },
    "version_major": 2,
    "version_minor": 0
   }
  }
 },
 "nbformat": 4,
 "nbformat_minor": 5
}
