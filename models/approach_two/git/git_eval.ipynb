{
 "cells": [
  {
   "cell_type": "code",
   "execution_count": 1,
   "id": "a6dade13",
   "metadata": {
    "execution": {
     "iopub.execute_input": "2023-05-15T16:57:28.724518Z",
     "iopub.status.busy": "2023-05-15T16:57:28.724024Z",
     "iopub.status.idle": "2023-05-15T16:57:34.201103Z",
     "shell.execute_reply": "2023-05-15T16:57:34.200042Z"
    },
    "papermill": {
     "duration": 5.48793,
     "end_time": "2023-05-15T16:57:34.203992",
     "exception": false,
     "start_time": "2023-05-15T16:57:28.716062",
     "status": "completed"
    },
    "tags": []
   },
   "outputs": [],
   "source": [
    "import os\n",
    "import sys\n",
    "import numpy as np\n",
    "import pandas as pd\n",
    "from pathlib import Path\n",
    "\n",
    "import torch\n",
    "from torch import nn\n",
    "import torchvision\n",
    "from torchvision.models import resnet34\n",
    "from torchvision import transforms, datasets\n",
    "\n",
    "from PIL import Image\n",
    "\n",
    "sys.path.append('../../data/sentence-transformers-222/sentence-transformers')\n",
    "from sentence_transformers import SentenceTransformer, models\n",
    "\n",
    "DEVICE = torch.device(\"cuda\" if torch.cuda.is_available() else \"cpu\")\n",
    "\n",
    "comp_path = Path('../../data/stable-diffusion-image-to-prompts/')\n",
    "\n",
    "sample_submission = pd.read_csv(comp_path / 'sample_submission.csv', index_col='imgId_eId')\n",
    "sample_submission.head()\n",
    "\n",
    "images = os.listdir(comp_path / 'images')\n",
    "imgIds = [i.split('.')[0] for i in images]\n",
    "\n",
    "EMBEDDING_LENGTH = 384\n",
    "TOTAL_IMAGES = len(imgIds)\n",
    "eIds = list(range(EMBEDDING_LENGTH))\n",
    "\n",
    "imgId_eId = [\n",
    "    '_'.join(map(str, i)) for i in zip(\n",
    "        np.repeat(imgIds, EMBEDDING_LENGTH),\n",
    "        np.tile(range(EMBEDDING_LENGTH), len(imgIds)))]\n",
    "\n",
    "assert sorted(imgId_eId) == sorted(sample_submission.index)"
   ]
  },
  {
   "cell_type": "code",
   "execution_count": 2,
   "id": "57f2192c",
   "metadata": {
    "execution": {
     "iopub.execute_input": "2023-05-15T16:57:34.215432Z",
     "iopub.status.busy": "2023-05-15T16:57:34.215083Z",
     "iopub.status.idle": "2023-05-15T16:57:40.436917Z",
     "shell.execute_reply": "2023-05-15T16:57:40.435539Z"
    },
    "papermill": {
     "duration": 6.231619,
     "end_time": "2023-05-15T16:57:40.440654",
     "exception": false,
     "start_time": "2023-05-15T16:57:34.209035",
     "status": "completed"
    },
    "tags": []
   },
   "outputs": [],
   "source": [
    "st_model = SentenceTransformer('../../data/sentence-transformers-222/all-MiniLM-L6-v2').to(DEVICE)"
   ]
  },
  {
   "cell_type": "code",
   "execution_count": 3,
   "id": "efa4cfe3",
   "metadata": {
    "execution": {
     "iopub.execute_input": "2023-05-15T16:57:40.458887Z",
     "iopub.status.busy": "2023-05-15T16:57:40.458468Z",
     "iopub.status.idle": "2023-05-15T16:57:40.477930Z",
     "shell.execute_reply": "2023-05-15T16:57:40.476127Z"
    },
    "papermill": {
     "duration": 0.034336,
     "end_time": "2023-05-15T16:57:40.483733",
     "exception": false,
     "start_time": "2023-05-15T16:57:40.449397",
     "status": "completed"
    },
    "tags": []
   },
   "outputs": [],
   "source": [
    "class DiffusionImageDataset(torch.utils.data.Dataset):\n",
    "    def __init__(self, data_path, prompts=None, transform=None):\n",
    "        self.image_paths = [\n",
    "            str(name) for name in data_path.iterdir()\n",
    "        ]\n",
    "        self.prompts = prompts\n",
    "        self.transform = transform\n",
    "    \n",
    "    def __len__(self):\n",
    "        return len(self.image_paths)\n",
    "    \n",
    "    def __getitem__(self, idx):\n",
    "        x = Image.open(self.image_paths[idx])\n",
    "        if self.transform:\n",
    "            x = self.transform(x)\n",
    "        \n",
    "        if self.prompts:\n",
    "            return x, self.prompts[idx]\n",
    "        else:\n",
    "            return x"
   ]
  },
  {
   "cell_type": "code",
   "execution_count": 4,
   "id": "ea71e936",
   "metadata": {
    "execution": {
     "iopub.execute_input": "2023-05-15T16:57:40.500236Z",
     "iopub.status.busy": "2023-05-15T16:57:40.499698Z",
     "iopub.status.idle": "2023-05-15T16:57:40.512426Z",
     "shell.execute_reply": "2023-05-15T16:57:40.508503Z"
    },
    "papermill": {
     "duration": 0.024603,
     "end_time": "2023-05-15T16:57:40.515750",
     "exception": false,
     "start_time": "2023-05-15T16:57:40.491147",
     "status": "completed"
    },
    "tags": []
   },
   "outputs": [],
   "source": [
    "BATCH_SIZE = 64\n",
    "data_path = comp_path / 'images'\n",
    "\n",
    "test_transform = transforms.Compose([transforms.ToTensor()])\n",
    "test_dataset = DiffusionImageDataset(data_path, transform=test_transform)\n",
    "test_loader = torch.utils.data.DataLoader(test_dataset, batch_size=BATCH_SIZE, num_workers=1,\n",
    "                                        shuffle=False)"
   ]
  },
  {
   "cell_type": "code",
   "execution_count": 5,
   "id": "fcd54dd5",
   "metadata": {
    "execution": {
     "iopub.execute_input": "2023-05-15T16:57:40.533019Z",
     "iopub.status.busy": "2023-05-15T16:57:40.532572Z",
     "iopub.status.idle": "2023-05-15T16:58:12.811476Z",
     "shell.execute_reply": "2023-05-15T16:58:12.810312Z"
    },
    "papermill": {
     "duration": 32.289069,
     "end_time": "2023-05-15T16:58:12.814251",
     "exception": false,
     "start_time": "2023-05-15T16:57:40.525182",
     "status": "completed"
    },
    "tags": []
   },
   "outputs": [],
   "source": [
    "from transformers import AutoProcessor, AutoModelForCausalLM\n",
    "\n",
    "processor = AutoProcessor.from_pretrained(\"../../data/image-caption-models/git-large-r\")\n",
    "model = AutoModelForCausalLM.from_pretrained(\"../../data/image-caption-models/git-large-r\").to(\"cuda\")"
   ]
  },
  {
   "cell_type": "code",
   "execution_count": 6,
   "id": "f4c0be0a",
   "metadata": {
    "execution": {
     "iopub.execute_input": "2023-05-15T16:58:12.825567Z",
     "iopub.status.busy": "2023-05-15T16:58:12.824900Z",
     "iopub.status.idle": "2023-05-15T16:58:12.832333Z",
     "shell.execute_reply": "2023-05-15T16:58:12.831411Z"
    },
    "papermill": {
     "duration": 0.015673,
     "end_time": "2023-05-15T16:58:12.834632",
     "exception": false,
     "start_time": "2023-05-15T16:58:12.818959",
     "status": "completed"
    },
    "tags": []
   },
   "outputs": [],
   "source": [
    "def get_prompts(model, processor, data_iter):\n",
    "    prompts = []\n",
    "    with torch.no_grad():\n",
    "        for images in data_iter:\n",
    "            pixel_values = processor(images=images, return_tensors=\"pt\").pixel_values.to(\"cuda\")\n",
    "            generated_ids = model.generate(pixel_values=pixel_values, max_length=50)\n",
    "            preds = processor.batch_decode(generated_ids, skip_special_tokens=True)\n",
    "            \n",
    "            prompts.extend([pred.rstrip() for pred in preds])\n",
    "    \n",
    "    return prompts"
   ]
  },
  {
   "cell_type": "code",
   "execution_count": 7,
   "id": "85fdc804",
   "metadata": {
    "execution": {
     "iopub.execute_input": "2023-05-15T16:58:12.844815Z",
     "iopub.status.busy": "2023-05-15T16:58:12.844537Z",
     "iopub.status.idle": "2023-05-15T16:58:21.346615Z",
     "shell.execute_reply": "2023-05-15T16:58:21.345375Z"
    },
    "papermill": {
     "duration": 8.510279,
     "end_time": "2023-05-15T16:58:21.349306",
     "exception": false,
     "start_time": "2023-05-15T16:58:12.839027",
     "status": "completed"
    },
    "tags": []
   },
   "outputs": [
    {
     "data": {
      "application/vnd.jupyter.widget-view+json": {
       "model_id": "8e77f8c9f7064d5ebf70f0c81e4f8929",
       "version_major": 2,
       "version_minor": 0
      },
      "text/plain": [
       "Batches:   0%|          | 0/1 [00:00<?, ?it/s]"
      ]
     },
     "metadata": {},
     "output_type": "display_data"
    },
    {
     "data": {
      "text/html": [
       "<div>\n",
       "<style scoped>\n",
       "    .dataframe tbody tr th:only-of-type {\n",
       "        vertical-align: middle;\n",
       "    }\n",
       "\n",
       "    .dataframe tbody tr th {\n",
       "        vertical-align: top;\n",
       "    }\n",
       "\n",
       "    .dataframe thead th {\n",
       "        text-align: right;\n",
       "    }\n",
       "</style>\n",
       "<table border=\"1\" class=\"dataframe\">\n",
       "  <thead>\n",
       "    <tr style=\"text-align: right;\">\n",
       "      <th></th>\n",
       "      <th>val</th>\n",
       "    </tr>\n",
       "    <tr>\n",
       "      <th>imgId_eId</th>\n",
       "      <th></th>\n",
       "    </tr>\n",
       "  </thead>\n",
       "  <tbody>\n",
       "    <tr>\n",
       "      <th>f27825b2c_0</th>\n",
       "      <td>-0.007689</td>\n",
       "    </tr>\n",
       "    <tr>\n",
       "      <th>f27825b2c_1</th>\n",
       "      <td>0.101176</td>\n",
       "    </tr>\n",
       "    <tr>\n",
       "      <th>f27825b2c_2</th>\n",
       "      <td>-0.031015</td>\n",
       "    </tr>\n",
       "    <tr>\n",
       "      <th>f27825b2c_3</th>\n",
       "      <td>-0.044353</td>\n",
       "    </tr>\n",
       "    <tr>\n",
       "      <th>f27825b2c_4</th>\n",
       "      <td>-0.032887</td>\n",
       "    </tr>\n",
       "  </tbody>\n",
       "</table>\n",
       "</div>"
      ],
      "text/plain": [
       "                  val\n",
       "imgId_eId            \n",
       "f27825b2c_0 -0.007689\n",
       "f27825b2c_1  0.101176\n",
       "f27825b2c_2 -0.031015\n",
       "f27825b2c_3 -0.044353\n",
       "f27825b2c_4 -0.032887"
      ]
     },
     "execution_count": 7,
     "metadata": {},
     "output_type": "execute_result"
    }
   ],
   "source": [
    "prompts = get_prompts(model, processor, test_loader)\n",
    "prompt_embeddings = st_model.encode(prompts).flatten()\n",
    "submission = pd.DataFrame(\n",
    "                index=imgId_eId,\n",
    "                data=prompt_embeddings,\n",
    "                columns=['val']).rename_axis('imgId_eId')\n",
    "\n",
    "submission.head()"
   ]
  },
  {
   "cell_type": "code",
   "execution_count": 9,
   "id": "113073cf",
   "metadata": {
    "execution": {
     "iopub.execute_input": "2023-05-15T16:58:21.380711Z",
     "iopub.status.busy": "2023-05-15T16:58:21.378990Z",
     "iopub.status.idle": "2023-05-15T16:58:21.392418Z",
     "shell.execute_reply": "2023-05-15T16:58:21.391400Z"
    },
    "papermill": {
     "duration": 0.021965,
     "end_time": "2023-05-15T16:58:21.395074",
     "exception": false,
     "start_time": "2023-05-15T16:58:21.373109",
     "status": "completed"
    },
    "tags": []
   },
   "outputs": [],
   "source": [
    "submission.to_csv('submission.csv')"
   ]
  }
 ],
 "metadata": {
  "kernelspec": {
   "display_name": "Python 3",
   "language": "python",
   "name": "python3"
  },
  "language_info": {
   "codemirror_mode": {
    "name": "ipython",
    "version": 3
   },
   "file_extension": ".py",
   "mimetype": "text/x-python",
   "name": "python",
   "nbconvert_exporter": "python",
   "pygments_lexer": "ipython3",
   "version": "3.7.12"
  },
  "papermill": {
   "default_parameters": {},
   "duration": 65.773198,
   "end_time": "2023-05-15T16:58:24.544128",
   "environment_variables": {},
   "exception": null,
   "input_path": "__notebook__.ipynb",
   "output_path": "__notebook__.ipynb",
   "parameters": {},
   "start_time": "2023-05-15T16:57:18.770930",
   "version": "2.4.0"
  },
  "widgets": {
   "application/vnd.jupyter.widget-state+json": {
    "state": {
     "040eae722be44f06a30cd74348efcb8a": {
      "model_module": "@jupyter-widgets/base",
      "model_module_version": "1.2.0",
      "model_name": "LayoutModel",
      "state": {
       "_model_module": "@jupyter-widgets/base",
       "_model_module_version": "1.2.0",
       "_model_name": "LayoutModel",
       "_view_count": null,
       "_view_module": "@jupyter-widgets/base",
       "_view_module_version": "1.2.0",
       "_view_name": "LayoutView",
       "align_content": null,
       "align_items": null,
       "align_self": null,
       "border": null,
       "bottom": null,
       "display": null,
       "flex": null,
       "flex_flow": null,
       "grid_area": null,
       "grid_auto_columns": null,
       "grid_auto_flow": null,
       "grid_auto_rows": null,
       "grid_column": null,
       "grid_gap": null,
       "grid_row": null,
       "grid_template_areas": null,
       "grid_template_columns": null,
       "grid_template_rows": null,
       "height": null,
       "justify_content": null,
       "justify_items": null,
       "left": null,
       "margin": null,
       "max_height": null,
       "max_width": null,
       "min_height": null,
       "min_width": null,
       "object_fit": null,
       "object_position": null,
       "order": null,
       "overflow": null,
       "overflow_x": null,
       "overflow_y": null,
       "padding": null,
       "right": null,
       "top": null,
       "visibility": null,
       "width": null
      }
     },
     "0cedd84163d94dcc93868faa0ae9ed05": {
      "model_module": "@jupyter-widgets/base",
      "model_module_version": "1.2.0",
      "model_name": "LayoutModel",
      "state": {
       "_model_module": "@jupyter-widgets/base",
       "_model_module_version": "1.2.0",
       "_model_name": "LayoutModel",
       "_view_count": null,
       "_view_module": "@jupyter-widgets/base",
       "_view_module_version": "1.2.0",
       "_view_name": "LayoutView",
       "align_content": null,
       "align_items": null,
       "align_self": null,
       "border": null,
       "bottom": null,
       "display": null,
       "flex": null,
       "flex_flow": null,
       "grid_area": null,
       "grid_auto_columns": null,
       "grid_auto_flow": null,
       "grid_auto_rows": null,
       "grid_column": null,
       "grid_gap": null,
       "grid_row": null,
       "grid_template_areas": null,
       "grid_template_columns": null,
       "grid_template_rows": null,
       "height": null,
       "justify_content": null,
       "justify_items": null,
       "left": null,
       "margin": null,
       "max_height": null,
       "max_width": null,
       "min_height": null,
       "min_width": null,
       "object_fit": null,
       "object_position": null,
       "order": null,
       "overflow": null,
       "overflow_x": null,
       "overflow_y": null,
       "padding": null,
       "right": null,
       "top": null,
       "visibility": null,
       "width": null
      }
     },
     "0cf2f6c1d6594e4191fb7bf4061afd23": {
      "model_module": "@jupyter-widgets/controls",
      "model_module_version": "1.5.0",
      "model_name": "DescriptionStyleModel",
      "state": {
       "_model_module": "@jupyter-widgets/controls",
       "_model_module_version": "1.5.0",
       "_model_name": "DescriptionStyleModel",
       "_view_count": null,
       "_view_module": "@jupyter-widgets/base",
       "_view_module_version": "1.2.0",
       "_view_name": "StyleView",
       "description_width": ""
      }
     },
     "200e93a85c58419381f326494beba5d5": {
      "model_module": "@jupyter-widgets/controls",
      "model_module_version": "1.5.0",
      "model_name": "HTMLModel",
      "state": {
       "_dom_classes": [],
       "_model_module": "@jupyter-widgets/controls",
       "_model_module_version": "1.5.0",
       "_model_name": "HTMLModel",
       "_view_count": null,
       "_view_module": "@jupyter-widgets/controls",
       "_view_module_version": "1.5.0",
       "_view_name": "HTMLView",
       "description": "",
       "description_tooltip": null,
       "layout": "IPY_MODEL_cf94b946f5534079a8674278a6660123",
       "placeholder": "​",
       "style": "IPY_MODEL_93e5a1b62ac94d2888990fff7cd4676b",
       "value": "Batches: 100%"
      }
     },
     "5903b5c7fbeb49478aa8d7cdac505c7f": {
      "model_module": "@jupyter-widgets/base",
      "model_module_version": "1.2.0",
      "model_name": "LayoutModel",
      "state": {
       "_model_module": "@jupyter-widgets/base",
       "_model_module_version": "1.2.0",
       "_model_name": "LayoutModel",
       "_view_count": null,
       "_view_module": "@jupyter-widgets/base",
       "_view_module_version": "1.2.0",
       "_view_name": "LayoutView",
       "align_content": null,
       "align_items": null,
       "align_self": null,
       "border": null,
       "bottom": null,
       "display": null,
       "flex": null,
       "flex_flow": null,
       "grid_area": null,
       "grid_auto_columns": null,
       "grid_auto_flow": null,
       "grid_auto_rows": null,
       "grid_column": null,
       "grid_gap": null,
       "grid_row": null,
       "grid_template_areas": null,
       "grid_template_columns": null,
       "grid_template_rows": null,
       "height": null,
       "justify_content": null,
       "justify_items": null,
       "left": null,
       "margin": null,
       "max_height": null,
       "max_width": null,
       "min_height": null,
       "min_width": null,
       "object_fit": null,
       "object_position": null,
       "order": null,
       "overflow": null,
       "overflow_x": null,
       "overflow_y": null,
       "padding": null,
       "right": null,
       "top": null,
       "visibility": null,
       "width": null
      }
     },
     "6810d1e042ef4466b1ebd9221048bd51": {
      "model_module": "@jupyter-widgets/controls",
      "model_module_version": "1.5.0",
      "model_name": "FloatProgressModel",
      "state": {
       "_dom_classes": [],
       "_model_module": "@jupyter-widgets/controls",
       "_model_module_version": "1.5.0",
       "_model_name": "FloatProgressModel",
       "_view_count": null,
       "_view_module": "@jupyter-widgets/controls",
       "_view_module_version": "1.5.0",
       "_view_name": "ProgressView",
       "bar_style": "success",
       "description": "",
       "description_tooltip": null,
       "layout": "IPY_MODEL_040eae722be44f06a30cd74348efcb8a",
       "max": 1,
       "min": 0,
       "orientation": "horizontal",
       "style": "IPY_MODEL_733112fdc94048dab5a9a333b532ea06",
       "value": 1
      }
     },
     "733112fdc94048dab5a9a333b532ea06": {
      "model_module": "@jupyter-widgets/controls",
      "model_module_version": "1.5.0",
      "model_name": "ProgressStyleModel",
      "state": {
       "_model_module": "@jupyter-widgets/controls",
       "_model_module_version": "1.5.0",
       "_model_name": "ProgressStyleModel",
       "_view_count": null,
       "_view_module": "@jupyter-widgets/base",
       "_view_module_version": "1.2.0",
       "_view_name": "StyleView",
       "bar_color": null,
       "description_width": ""
      }
     },
     "8e77f8c9f7064d5ebf70f0c81e4f8929": {
      "model_module": "@jupyter-widgets/controls",
      "model_module_version": "1.5.0",
      "model_name": "HBoxModel",
      "state": {
       "_dom_classes": [],
       "_model_module": "@jupyter-widgets/controls",
       "_model_module_version": "1.5.0",
       "_model_name": "HBoxModel",
       "_view_count": null,
       "_view_module": "@jupyter-widgets/controls",
       "_view_module_version": "1.5.0",
       "_view_name": "HBoxView",
       "box_style": "",
       "children": [
        "IPY_MODEL_200e93a85c58419381f326494beba5d5",
        "IPY_MODEL_6810d1e042ef4466b1ebd9221048bd51",
        "IPY_MODEL_c8e415406a2a406fb967992654ee4224"
       ],
       "layout": "IPY_MODEL_0cedd84163d94dcc93868faa0ae9ed05"
      }
     },
     "93e5a1b62ac94d2888990fff7cd4676b": {
      "model_module": "@jupyter-widgets/controls",
      "model_module_version": "1.5.0",
      "model_name": "DescriptionStyleModel",
      "state": {
       "_model_module": "@jupyter-widgets/controls",
       "_model_module_version": "1.5.0",
       "_model_name": "DescriptionStyleModel",
       "_view_count": null,
       "_view_module": "@jupyter-widgets/base",
       "_view_module_version": "1.2.0",
       "_view_name": "StyleView",
       "description_width": ""
      }
     },
     "c8e415406a2a406fb967992654ee4224": {
      "model_module": "@jupyter-widgets/controls",
      "model_module_version": "1.5.0",
      "model_name": "HTMLModel",
      "state": {
       "_dom_classes": [],
       "_model_module": "@jupyter-widgets/controls",
       "_model_module_version": "1.5.0",
       "_model_name": "HTMLModel",
       "_view_count": null,
       "_view_module": "@jupyter-widgets/controls",
       "_view_module_version": "1.5.0",
       "_view_name": "HTMLView",
       "description": "",
       "description_tooltip": null,
       "layout": "IPY_MODEL_5903b5c7fbeb49478aa8d7cdac505c7f",
       "placeholder": "​",
       "style": "IPY_MODEL_0cf2f6c1d6594e4191fb7bf4061afd23",
       "value": " 1/1 [00:00&lt;00:00, 26.17it/s]"
      }
     },
     "cf94b946f5534079a8674278a6660123": {
      "model_module": "@jupyter-widgets/base",
      "model_module_version": "1.2.0",
      "model_name": "LayoutModel",
      "state": {
       "_model_module": "@jupyter-widgets/base",
       "_model_module_version": "1.2.0",
       "_model_name": "LayoutModel",
       "_view_count": null,
       "_view_module": "@jupyter-widgets/base",
       "_view_module_version": "1.2.0",
       "_view_name": "LayoutView",
       "align_content": null,
       "align_items": null,
       "align_self": null,
       "border": null,
       "bottom": null,
       "display": null,
       "flex": null,
       "flex_flow": null,
       "grid_area": null,
       "grid_auto_columns": null,
       "grid_auto_flow": null,
       "grid_auto_rows": null,
       "grid_column": null,
       "grid_gap": null,
       "grid_row": null,
       "grid_template_areas": null,
       "grid_template_columns": null,
       "grid_template_rows": null,
       "height": null,
       "justify_content": null,
       "justify_items": null,
       "left": null,
       "margin": null,
       "max_height": null,
       "max_width": null,
       "min_height": null,
       "min_width": null,
       "object_fit": null,
       "object_position": null,
       "order": null,
       "overflow": null,
       "overflow_x": null,
       "overflow_y": null,
       "padding": null,
       "right": null,
       "top": null,
       "visibility": null,
       "width": null
      }
     }
    },
    "version_major": 2,
    "version_minor": 0
   }
  }
 },
 "nbformat": 4,
 "nbformat_minor": 5
}
