{
 "cells": [
  {
   "cell_type": "code",
   "execution_count": 1,
   "id": "e0edc9fa",
   "metadata": {
    "execution": {
     "iopub.execute_input": "2023-05-15T04:01:27.974517Z",
     "iopub.status.busy": "2023-05-15T04:01:27.973826Z",
     "iopub.status.idle": "2023-05-15T04:02:08.372291Z",
     "shell.execute_reply": "2023-05-15T04:02:08.370893Z"
    },
    "papermill": {
     "duration": 40.416801,
     "end_time": "2023-05-15T04:02:08.375239",
     "exception": false,
     "start_time": "2023-05-15T04:01:27.958438",
     "status": "completed"
    },
    "tags": []
   },
   "outputs": [
    {
     "name": "stdout",
     "output_type": "stream",
     "text": [
      "\u001b[33mWARNING: Running pip as the 'root' user can result in broken permissions and conflicting behaviour with the system package manager. It is recommended to use a virtual environment instead: https://pip.pypa.io/warnings/venv\u001b[0m\u001b[33m\r\n",
      "\u001b[0m\u001b[33mWARNING: There was an error checking the latest version of pip.\u001b[0m\u001b[33m\r\n",
      "\u001b[0m"
     ]
    }
   ],
   "source": [
    "# Using the pre compiled wheel since we don't have internet on submission\n",
    "!pip install -q ../../data/stable-diffusion-data/transformers-4.18.0.dev0-py3-none-any.whl"
   ]
  },
  {
   "cell_type": "code",
   "execution_count": 2,
   "id": "c073b1d2",
   "metadata": {
    "execution": {
     "iopub.execute_input": "2023-05-15T04:02:08.404985Z",
     "iopub.status.busy": "2023-05-15T04:02:08.404075Z",
     "iopub.status.idle": "2023-05-15T04:02:10.690679Z",
     "shell.execute_reply": "2023-05-15T04:02:10.689667Z"
    },
    "papermill": {
     "duration": 2.303698,
     "end_time": "2023-05-15T04:02:10.693669",
     "exception": false,
     "start_time": "2023-05-15T04:02:08.389971",
     "status": "completed"
    },
    "tags": []
   },
   "outputs": [],
   "source": [
    "import os\n",
    "import sys\n",
    "import glob\n",
    "from pathlib import Path\n",
    "\n",
    "import numpy as np\n",
    "import pandas as pd\n",
    "import matplotlib.pyplot as plt\n",
    "\n",
    "from PIL import Image\n",
    "import torch\n",
    "from torch.utils.data import Dataset\n",
    "from torchvision import transforms\n",
    "from transformers import OFATokenizer, OFAModel\n",
    "from transformers.models.ofa.generate import sequence_generator\n",
    "\n",
    "import gc"
   ]
  },
  {
   "cell_type": "markdown",
   "id": "ef745cbc",
   "metadata": {
    "papermill": {
     "duration": 0.012119,
     "end_time": "2023-05-15T04:02:10.718206",
     "exception": false,
     "start_time": "2023-05-15T04:02:10.706087",
     "status": "completed"
    },
    "tags": []
   },
   "source": [
    "# Inference"
   ]
  },
  {
   "cell_type": "code",
   "execution_count": 3,
   "id": "6b2573b4",
   "metadata": {
    "execution": {
     "iopub.execute_input": "2023-05-15T04:02:10.744446Z",
     "iopub.status.busy": "2023-05-15T04:02:10.743886Z",
     "iopub.status.idle": "2023-05-15T04:02:15.381404Z",
     "shell.execute_reply": "2023-05-15T04:02:15.380328Z"
    },
    "papermill": {
     "duration": 4.654433,
     "end_time": "2023-05-15T04:02:15.384647",
     "exception": false,
     "start_time": "2023-05-15T04:02:10.730214",
     "status": "completed"
    },
    "tags": []
   },
   "outputs": [],
   "source": [
    "sys.path.append('../../data/sentence-transformers-222/sentence-transformers')\n",
    "from sentence_transformers import SentenceTransformer, models\n",
    "\n",
    "comp_path = Path('../../data/stable-diffusion-image-to-prompts/')\n",
    "st_model = SentenceTransformer('../../data/sentence-transformers-222/all-MiniLM-L6-v2')"
   ]
  },
  {
   "cell_type": "code",
   "execution_count": 4,
   "id": "eaf1dbe8",
   "metadata": {
    "execution": {
     "iopub.execute_input": "2023-05-15T04:02:15.412263Z",
     "iopub.status.busy": "2023-05-15T04:02:15.411870Z",
     "iopub.status.idle": "2023-05-15T04:02:15.426546Z",
     "shell.execute_reply": "2023-05-15T04:02:15.425423Z"
    },
    "papermill": {
     "duration": 0.031163,
     "end_time": "2023-05-15T04:02:15.428971",
     "exception": false,
     "start_time": "2023-05-15T04:02:15.397808",
     "status": "completed"
    },
    "tags": []
   },
   "outputs": [],
   "source": [
    "class ImageGen(Dataset):\n",
    "    def __init__(self, root, batch_size=32):\n",
    "        self.root = root\n",
    "        self.im_paths = os.listdir(self.root)\n",
    "        self.batch_size = batch_size\n",
    "        self.sz = len(self.im_paths)\n",
    "        self.genlen = self.sz//self.batch_size + int(self.sz%self.batch_size > 0)\n",
    "        \n",
    "    def __getitem__(self, index):\n",
    "        if index >= self.genlen:\n",
    "            raise IndexError(\"Out of bounds\")\n",
    "        \n",
    "        l, r = index*self.batch_size, min(self.sz, (index+1)*self.batch_size)\n",
    "        \n",
    "        f_paths = [os.path.join(self.root, self.im_paths[i]) for i in range(l,r)]\n",
    "        f_ids = [self.im_paths[i][:-4] for i in range(l,r)]\n",
    "        \n",
    "        ims = [Image.open(f_path) for f_path in f_paths]\n",
    "        ims = [patch_resize_transform(im).cuda().unsqueeze(0) for im in ims]\n",
    "        ims = torch.cat(ims)\n",
    "        \n",
    "        return ims, f_ids\n",
    "    \n",
    "    def __len__(self):\n",
    "        return self.genlen"
   ]
  },
  {
   "cell_type": "code",
   "execution_count": 5,
   "id": "a6e750ce",
   "metadata": {
    "execution": {
     "iopub.execute_input": "2023-05-15T04:02:15.480921Z",
     "iopub.status.busy": "2023-05-15T04:02:15.480582Z",
     "iopub.status.idle": "2023-05-15T04:02:15.485976Z",
     "shell.execute_reply": "2023-05-15T04:02:15.484745Z"
    },
    "papermill": {
     "duration": 0.021882,
     "end_time": "2023-05-15T04:02:15.488397",
     "exception": false,
     "start_time": "2023-05-15T04:02:15.466515",
     "status": "completed"
    },
    "tags": []
   },
   "outputs": [],
   "source": [
    "wheels_path = \"../../data/clip-interrogator-wheels-x\"\n",
    "clip_interrogator_whl_path = f\"{wheels_path}/clip_interrogator-0.4.3-py3-none-any.whl\""
   ]
  },
  {
   "cell_type": "code",
   "execution_count": null,
   "id": "25f9deb3",
   "metadata": {
    "_kg_hide-output": true,
    "execution": {
     "iopub.execute_input": "2023-05-15T04:02:15.517006Z",
     "iopub.status.busy": "2023-05-15T04:02:15.516645Z",
     "iopub.status.idle": "2023-05-15T04:02:49.237734Z",
     "shell.execute_reply": "2023-05-15T04:02:49.236079Z"
    },
    "papermill": {
     "duration": 33.73891,
     "end_time": "2023-05-15T04:02:49.240986",
     "exception": false,
     "start_time": "2023-05-15T04:02:15.502076",
     "status": "completed"
    },
    "tags": []
   },
   "outputs": [],
   "source": [
    "!pip install --no-index --find-links $wheels_path $clip_interrogator_whl_path -q"
   ]
  },
  {
   "cell_type": "code",
   "execution_count": 8,
   "id": "b1957a2d",
   "metadata": {
    "_kg_hide-input": true,
    "execution": {
     "iopub.execute_input": "2023-05-15T04:03:13.310339Z",
     "iopub.status.busy": "2023-05-15T04:03:13.309337Z",
     "iopub.status.idle": "2023-05-15T04:03:14.378393Z",
     "shell.execute_reply": "2023-05-15T04:03:14.377041Z"
    },
    "papermill": {
     "duration": 1.086407,
     "end_time": "2023-05-15T04:03:14.381536",
     "exception": false,
     "start_time": "2023-05-15T04:03:13.295129",
     "status": "completed"
    },
    "tags": []
   },
   "outputs": [],
   "source": [
    "import inspect\n",
    "import importlib\n",
    "\n",
    "from blip.models import blip\n",
    "from clip_interrogator import clip_interrogator"
   ]
  },
  {
   "cell_type": "code",
   "execution_count": 9,
   "id": "26db466a",
   "metadata": {
    "_kg_hide-input": true,
    "_kg_hide-output": true,
    "execution": {
     "iopub.execute_input": "2023-05-15T04:03:14.412934Z",
     "iopub.status.busy": "2023-05-15T04:03:14.411206Z",
     "iopub.status.idle": "2023-05-15T04:03:14.429057Z",
     "shell.execute_reply": "2023-05-15T04:03:14.427903Z"
    },
    "papermill": {
     "duration": 0.034687,
     "end_time": "2023-05-15T04:03:14.431327",
     "exception": false,
     "start_time": "2023-05-15T04:03:14.396640",
     "status": "completed"
    },
    "tags": []
   },
   "outputs": [
    {
     "data": {
      "text/plain": [
       "<module 'blip.models.blip' from '/opt/conda/lib/python3.7/site-packages/blip/models/blip.py'>"
      ]
     },
     "execution_count": 9,
     "metadata": {},
     "output_type": "execute_result"
    }
   ],
   "source": [
    "# replace tokenizer path to prevent downloading\n",
    "blip_path = inspect.getfile(blip)\n",
    "\n",
    "fin = open(blip_path, \"rt\")\n",
    "data = fin.read()\n",
    "data = data.replace(\n",
    "    \"BertTokenizer.from_pretrained('bert-base-uncased')\", \n",
    "    \"BertTokenizer.from_pretrained('../../data/clip-interrogator-models-x/bert-base-uncased')\"\n",
    ")\n",
    "fin.close()\n",
    "\n",
    "fin = open(blip_path, \"wt\")\n",
    "fin.write(data)\n",
    "fin.close()\n",
    "\n",
    "# reload module\n",
    "importlib.reload(blip)"
   ]
  },
  {
   "cell_type": "code",
   "execution_count": 10,
   "id": "ba3084cf",
   "metadata": {
    "_kg_hide-input": true,
    "_kg_hide-output": true,
    "execution": {
     "iopub.execute_input": "2023-05-15T04:03:14.461107Z",
     "iopub.status.busy": "2023-05-15T04:03:14.460728Z",
     "iopub.status.idle": "2023-05-15T04:03:14.481487Z",
     "shell.execute_reply": "2023-05-15T04:03:14.480252Z"
    },
    "papermill": {
     "duration": 0.039332,
     "end_time": "2023-05-15T04:03:14.484261",
     "exception": false,
     "start_time": "2023-05-15T04:03:14.444929",
     "status": "completed"
    },
    "tags": []
   },
   "outputs": [
    {
     "data": {
      "text/plain": [
       "<module 'clip_interrogator.clip_interrogator' from '/opt/conda/lib/python3.7/site-packages/clip_interrogator/clip_interrogator.py'>"
      ]
     },
     "execution_count": 10,
     "metadata": {},
     "output_type": "execute_result"
    }
   ],
   "source": [
    "# fix clip_interrogator bug\n",
    "clip_interrogator_path = inspect.getfile(clip_interrogator.Interrogator)\n",
    "\n",
    "fin = open(clip_interrogator_path, \"rt\")\n",
    "data = fin.read()\n",
    "data = data.replace(\n",
    "    'open_clip.get_tokenizer(clip_model_name)', \n",
    "    'open_clip.get_tokenizer(config.clip_model_name.split(\"/\", 2)[0])'\n",
    ")\n",
    "fin.close()\n",
    "\n",
    "fin = open(clip_interrogator_path, \"wt\")\n",
    "fin.write(data)\n",
    "fin.close()\n",
    "\n",
    "# reload module\n",
    "importlib.reload(clip_interrogator)"
   ]
  },
  {
   "cell_type": "code",
   "execution_count": 11,
   "id": "c9ecfdce",
   "metadata": {
    "execution": {
     "iopub.execute_input": "2023-05-15T04:03:14.515906Z",
     "iopub.status.busy": "2023-05-15T04:03:14.515487Z",
     "iopub.status.idle": "2023-05-15T04:03:14.522195Z",
     "shell.execute_reply": "2023-05-15T04:03:14.521225Z"
    },
    "papermill": {
     "duration": 0.025205,
     "end_time": "2023-05-15T04:03:14.524489",
     "exception": false,
     "start_time": "2023-05-15T04:03:14.499284",
     "status": "completed"
    },
    "tags": []
   },
   "outputs": [],
   "source": [
    "import os\n",
    "import sys\n",
    "from PIL import Image\n",
    "from pathlib import Path\n",
    "import matplotlib.pyplot as plt \n",
    "\n",
    "import numpy as np\n",
    "import pandas as pd\n",
    "import torch\n",
    "import open_clip\n",
    "\n",
    "\n",
    "sys.path.append('../../data/sentence-transformers-222/sentence-transformers')\n",
    "from sentence_transformers import SentenceTransformer, models\n",
    "\n",
    "comp_path = Path('../../data/stable-diffusion-image-to-prompts/')"
   ]
  },
  {
   "cell_type": "code",
   "execution_count": 12,
   "id": "2071549d",
   "metadata": {
    "execution": {
     "iopub.execute_input": "2023-05-15T04:03:14.580549Z",
     "iopub.status.busy": "2023-05-15T04:03:14.580152Z",
     "iopub.status.idle": "2023-05-15T04:03:14.586167Z",
     "shell.execute_reply": "2023-05-15T04:03:14.585102Z"
    },
    "papermill": {
     "duration": 0.023315,
     "end_time": "2023-05-15T04:03:14.589037",
     "exception": false,
     "start_time": "2023-05-15T04:03:14.565722",
     "status": "completed"
    },
    "tags": []
   },
   "outputs": [],
   "source": [
    "class CFG:\n",
    "    device = \"cuda\"\n",
    "    seed = 42\n",
    "    embedding_length = 384\n",
    "    sentence_model_path = \"../../data/sentence-transformers-222/all-MiniLM-L6-v2\"\n",
    "    blip_model_path = \"../../data/clip-interrogator-models-x/model_large_caption.pth\"\n",
    "    ci_clip_model_name = \"ViT-H-14/laion2b_s32b_b79k\"\n",
    "    clip_model_name = \"ViT-H-14\"\n",
    "    clip_model_path = \"../../data/clip-interrogator-models-x/CLIP-ViT-H-14-laion2B-s32B-b79K/open_clip_pytorch_model.bin\"\n",
    "    cache_path = \"../../data/clip-interrogator-models-x\""
   ]
  },
  {
   "cell_type": "code",
   "execution_count": 13,
   "id": "1cbeae44",
   "metadata": {
    "execution": {
     "iopub.execute_input": "2023-05-15T04:03:14.644847Z",
     "iopub.status.busy": "2023-05-15T04:03:14.644546Z",
     "iopub.status.idle": "2023-05-15T04:03:14.679818Z",
     "shell.execute_reply": "2023-05-15T04:03:14.678669Z"
    },
    "papermill": {
     "duration": 0.052441,
     "end_time": "2023-05-15T04:03:14.682226",
     "exception": false,
     "start_time": "2023-05-15T04:03:14.629785",
     "status": "completed"
    },
    "tags": []
   },
   "outputs": [
    {
     "data": {
      "text/html": [
       "<div>\n",
       "<style scoped>\n",
       "    .dataframe tbody tr th:only-of-type {\n",
       "        vertical-align: middle;\n",
       "    }\n",
       "\n",
       "    .dataframe tbody tr th {\n",
       "        vertical-align: top;\n",
       "    }\n",
       "\n",
       "    .dataframe thead th {\n",
       "        text-align: right;\n",
       "    }\n",
       "</style>\n",
       "<table border=\"1\" class=\"dataframe\">\n",
       "  <thead>\n",
       "    <tr style=\"text-align: right;\">\n",
       "      <th></th>\n",
       "      <th>val</th>\n",
       "    </tr>\n",
       "    <tr>\n",
       "      <th>imgId_eId</th>\n",
       "      <th></th>\n",
       "    </tr>\n",
       "  </thead>\n",
       "  <tbody>\n",
       "    <tr>\n",
       "      <th>20057f34d_0</th>\n",
       "      <td>0.018848</td>\n",
       "    </tr>\n",
       "    <tr>\n",
       "      <th>20057f34d_1</th>\n",
       "      <td>0.030190</td>\n",
       "    </tr>\n",
       "    <tr>\n",
       "      <th>20057f34d_2</th>\n",
       "      <td>0.072792</td>\n",
       "    </tr>\n",
       "    <tr>\n",
       "      <th>20057f34d_3</th>\n",
       "      <td>-0.000673</td>\n",
       "    </tr>\n",
       "    <tr>\n",
       "      <th>20057f34d_4</th>\n",
       "      <td>0.016774</td>\n",
       "    </tr>\n",
       "  </tbody>\n",
       "</table>\n",
       "</div>"
      ],
      "text/plain": [
       "                  val\n",
       "imgId_eId            \n",
       "20057f34d_0  0.018848\n",
       "20057f34d_1  0.030190\n",
       "20057f34d_2  0.072792\n",
       "20057f34d_3 -0.000673\n",
       "20057f34d_4  0.016774"
      ]
     },
     "execution_count": 13,
     "metadata": {},
     "output_type": "execute_result"
    }
   ],
   "source": [
    "df_submission = pd.read_csv(comp_path / 'sample_submission.csv', index_col='imgId_eId')\n",
    "df_submission.head()"
   ]
  },
  {
   "cell_type": "code",
   "execution_count": 14,
   "id": "8b812443",
   "metadata": {
    "execution": {
     "iopub.execute_input": "2023-05-15T04:03:14.739471Z",
     "iopub.status.busy": "2023-05-15T04:03:14.737809Z",
     "iopub.status.idle": "2023-05-15T04:03:14.755047Z",
     "shell.execute_reply": "2023-05-15T04:03:14.754119Z"
    },
    "papermill": {
     "duration": 0.03389,
     "end_time": "2023-05-15T04:03:14.757436",
     "exception": false,
     "start_time": "2023-05-15T04:03:14.723546",
     "status": "completed"
    },
    "tags": []
   },
   "outputs": [],
   "source": [
    "images = os.listdir(comp_path / 'images')\n",
    "imgIds = [i.split('.')[0] for i in images]\n",
    "\n",
    "eIds = list(range(CFG.embedding_length))\n",
    "\n",
    "imgId_eId = [\n",
    "    '_'.join(map(str, i)) for i in zip(\n",
    "        np.repeat(imgIds, CFG.embedding_length),\n",
    "        np.tile(range(CFG.embedding_length), len(imgIds))\n",
    "    )\n",
    "]\n",
    "\n",
    "assert sorted(imgId_eId) == sorted(df_submission.index)"
   ]
  },
  {
   "cell_type": "code",
   "execution_count": 15,
   "id": "ba103d77",
   "metadata": {
    "execution": {
     "iopub.execute_input": "2023-05-15T04:03:14.813120Z",
     "iopub.status.busy": "2023-05-15T04:03:14.811548Z",
     "iopub.status.idle": "2023-05-15T04:03:15.226931Z",
     "shell.execute_reply": "2023-05-15T04:03:15.225565Z"
    },
    "papermill": {
     "duration": 0.432144,
     "end_time": "2023-05-15T04:03:15.229908",
     "exception": false,
     "start_time": "2023-05-15T04:03:14.797764",
     "status": "completed"
    },
    "tags": []
   },
   "outputs": [],
   "source": [
    "st_model = SentenceTransformer(CFG.sentence_model_path)"
   ]
  },
  {
   "cell_type": "code",
   "execution_count": 16,
   "id": "d830394a",
   "metadata": {
    "execution": {
     "iopub.execute_input": "2023-05-15T04:03:15.317410Z",
     "iopub.status.busy": "2023-05-15T04:03:15.316997Z",
     "iopub.status.idle": "2023-05-15T04:03:15.322341Z",
     "shell.execute_reply": "2023-05-15T04:03:15.321337Z"
    },
    "papermill": {
     "duration": 0.023572,
     "end_time": "2023-05-15T04:03:15.324877",
     "exception": false,
     "start_time": "2023-05-15T04:03:15.301305",
     "status": "completed"
    },
    "tags": []
   },
   "outputs": [],
   "source": [
    "model_config = clip_interrogator.Config(clip_model_name=CFG.ci_clip_model_name)\n",
    "model_config.cache_path = CFG.cache_path"
   ]
  },
  {
   "cell_type": "code",
   "execution_count": 17,
   "id": "a0bbc07f",
   "metadata": {
    "execution": {
     "iopub.execute_input": "2023-05-15T04:03:15.385867Z",
     "iopub.status.busy": "2023-05-15T04:03:15.384938Z",
     "iopub.status.idle": "2023-05-15T04:03:51.957536Z",
     "shell.execute_reply": "2023-05-15T04:03:51.956262Z"
    },
    "papermill": {
     "duration": 36.591785,
     "end_time": "2023-05-15T04:03:51.960622",
     "exception": false,
     "start_time": "2023-05-15T04:03:15.368837",
     "status": "completed"
    },
    "tags": []
   },
   "outputs": [
    {
     "name": "stdout",
     "output_type": "stream",
     "text": [
      "load checkpoint from /kaggle/input/clip-interrogator-models-x/model_large_caption.pth\n"
     ]
    }
   ],
   "source": [
    "configs_path = os.path.join(os.path.dirname(os.path.dirname(blip_path)), 'configs')\n",
    "med_config = os.path.join(configs_path, 'med_config.json')\n",
    "blip_model = blip.blip_decoder(\n",
    "    pretrained=CFG.blip_model_path,\n",
    "    image_size=model_config.blip_image_eval_size, \n",
    "    vit=model_config.blip_model_type, \n",
    "    med_config=med_config\n",
    ")\n",
    "blip_model.eval()\n",
    "blip_model = blip_model.to(model_config.device)\n",
    "model_config.blip_model = blip_model"
   ]
  },
  {
   "cell_type": "code",
   "execution_count": 18,
   "id": "2c79cee8",
   "metadata": {
    "execution": {
     "iopub.execute_input": "2023-05-15T04:03:52.023071Z",
     "iopub.status.busy": "2023-05-15T04:03:52.022640Z",
     "iopub.status.idle": "2023-05-15T04:04:43.158237Z",
     "shell.execute_reply": "2023-05-15T04:04:43.157240Z"
    },
    "papermill": {
     "duration": 51.154763,
     "end_time": "2023-05-15T04:04:43.161021",
     "exception": false,
     "start_time": "2023-05-15T04:03:52.006258",
     "status": "completed"
    },
    "tags": []
   },
   "outputs": [],
   "source": [
    "clip_model = open_clip.create_model(CFG.clip_model_name, precision='fp16' if model_config.device == 'cuda' else 'fp32')\n",
    "open_clip.load_checkpoint(clip_model, CFG.clip_model_path)\n",
    "clip_model.to(model_config.device).eval()\n",
    "model_config.clip_model = clip_model"
   ]
  },
  {
   "cell_type": "code",
   "execution_count": 19,
   "id": "c8e067e6",
   "metadata": {
    "execution": {
     "iopub.execute_input": "2023-05-15T04:04:43.190003Z",
     "iopub.status.busy": "2023-05-15T04:04:43.189645Z",
     "iopub.status.idle": "2023-05-15T04:04:43.195914Z",
     "shell.execute_reply": "2023-05-15T04:04:43.194830Z"
    },
    "papermill": {
     "duration": 0.023252,
     "end_time": "2023-05-15T04:04:43.198224",
     "exception": false,
     "start_time": "2023-05-15T04:04:43.174972",
     "status": "completed"
    },
    "tags": []
   },
   "outputs": [],
   "source": [
    "clip_preprocess = open_clip.image_transform(\n",
    "    clip_model.visual.image_size,\n",
    "    is_train = False,\n",
    "    mean = getattr(clip_model.visual, 'image_mean', None),\n",
    "    std = getattr(clip_model.visual, 'image_std', None),\n",
    ")\n",
    "model_config.clip_preprocess = clip_preprocess"
   ]
  },
  {
   "cell_type": "code",
   "execution_count": 20,
   "id": "578ba660",
   "metadata": {
    "execution": {
     "iopub.execute_input": "2023-05-15T04:04:43.253203Z",
     "iopub.status.busy": "2023-05-15T04:04:43.252893Z",
     "iopub.status.idle": "2023-05-15T04:04:45.651990Z",
     "shell.execute_reply": "2023-05-15T04:04:45.650526Z"
    },
    "papermill": {
     "duration": 2.415804,
     "end_time": "2023-05-15T04:04:45.654747",
     "exception": false,
     "start_time": "2023-05-15T04:04:43.238943",
     "status": "completed"
    },
    "tags": []
   },
   "outputs": [
    {
     "name": "stdout",
     "output_type": "stream",
     "text": [
      "Loaded CLIP model and data in 2.39 seconds.\n"
     ]
    }
   ],
   "source": [
    "ci = clip_interrogator.Interrogator(model_config)"
   ]
  },
  {
   "cell_type": "code",
   "execution_count": 21,
   "id": "1741423e",
   "metadata": {
    "execution": {
     "iopub.execute_input": "2023-05-15T04:04:45.777592Z",
     "iopub.status.busy": "2023-05-15T04:04:45.776473Z",
     "iopub.status.idle": "2023-05-15T04:04:46.398016Z",
     "shell.execute_reply": "2023-05-15T04:04:46.396870Z"
    },
    "papermill": {
     "duration": 0.640358,
     "end_time": "2023-05-15T04:04:46.400964",
     "exception": false,
     "start_time": "2023-05-15T04:04:45.760606",
     "status": "completed"
    },
    "tags": []
   },
   "outputs": [],
   "source": [
    "cos = torch.nn.CosineSimilarity(dim=1)\n",
    "\n",
    "mediums_features_array = torch.stack([torch.from_numpy(t) for t in ci.mediums.embeds]).to(ci.device)\n",
    "movements_features_array = torch.stack([torch.from_numpy(t) for t in ci.movements.embeds]).to(ci.device)\n",
    "flavors_features_array = torch.stack([torch.from_numpy(t) for t in ci.flavors.embeds]).to(ci.device)"
   ]
  },
  {
   "cell_type": "code",
   "execution_count": 22,
   "id": "5444e26c",
   "metadata": {
    "execution": {
     "iopub.execute_input": "2023-05-15T04:04:46.485866Z",
     "iopub.status.busy": "2023-05-15T04:04:46.485437Z",
     "iopub.status.idle": "2023-05-15T04:04:46.494287Z",
     "shell.execute_reply": "2023-05-15T04:04:46.493213Z"
    },
    "papermill": {
     "duration": 0.025747,
     "end_time": "2023-05-15T04:04:46.496647",
     "exception": false,
     "start_time": "2023-05-15T04:04:46.470900",
     "status": "completed"
    },
    "tags": []
   },
   "outputs": [],
   "source": [
    "def interrogate(image: Image) -> str:\n",
    "    caption = ci.generate_caption(image)\n",
    "    image_features = ci.image_to_features(image)\n",
    "    \n",
    "    medium = [ci.mediums.labels[i] for i in cos(image_features, mediums_features_array).topk(1).indices][0]\n",
    "    movement = [ci.movements.labels[i] for i in cos(image_features, movements_features_array).topk(1).indices][0]\n",
    "    flaves = \", \".join([ci.flavors.labels[i] for i in cos(image_features, flavors_features_array).topk(3).indices])\n",
    "\n",
    "    if caption.startswith(medium):\n",
    "        prompt = f\"{caption}, {movement}, {flaves}\"\n",
    "    else:\n",
    "        prompt = f\"{caption}, {medium}, {movement}, {flaves}\"\n",
    "\n",
    "    return clip_interrogator._truncate_to_fit(prompt, ci.tokenize)"
   ]
  },
  {
   "cell_type": "code",
   "execution_count": 23,
   "id": "9125add7",
   "metadata": {
    "execution": {
     "iopub.execute_input": "2023-05-15T04:04:46.550899Z",
     "iopub.status.busy": "2023-05-15T04:04:46.550277Z",
     "iopub.status.idle": "2023-05-15T04:05:02.860728Z",
     "shell.execute_reply": "2023-05-15T04:05:02.859270Z"
    },
    "papermill": {
     "duration": 16.327954,
     "end_time": "2023-05-15T04:05:02.863908",
     "exception": false,
     "start_time": "2023-05-15T04:04:46.535954",
     "status": "completed"
    },
    "tags": []
   },
   "outputs": [],
   "source": [
    "prompts = []\n",
    "\n",
    "images_path = \"../../data/stable-diffusion-image-to-prompts/images/\"\n",
    "for image_name in images:\n",
    "    img = Image.open(images_path + image_name).convert(\"RGB\")\n",
    "\n",
    "    generated = interrogate(img)\n",
    "    \n",
    "    prompts.append(generated)"
   ]
  },
  {
   "cell_type": "code",
   "execution_count": 24,
   "id": "0616f480",
   "metadata": {
    "execution": {
     "iopub.execute_input": "2023-05-15T04:05:02.919792Z",
     "iopub.status.busy": "2023-05-15T04:05:02.919409Z",
     "iopub.status.idle": "2023-05-15T04:05:02.927918Z",
     "shell.execute_reply": "2023-05-15T04:05:02.926897Z"
    },
    "papermill": {
     "duration": 0.025518,
     "end_time": "2023-05-15T04:05:02.930178",
     "exception": false,
     "start_time": "2023-05-15T04:05:02.904660",
     "status": "completed"
    },
    "tags": []
   },
   "outputs": [],
   "source": [
    "def add_text_limiters(text: str) -> str:\n",
    "    return \" \".join([\n",
    "        word + \"\\n\" if i % 15 == 0 else word \n",
    "        for i, word in enumerate(text.split(\" \"), start=1)\n",
    "    ])\n",
    "\n",
    "def plot_image(image: np.ndarray, original_prompt: str, generated_prompt: str) -> None:\n",
    "    plt.figure(figsize=(10, 10))\n",
    "    plt.imshow(image)\n",
    "    plt.annotate(\n",
    "        \"Original prompt:\\n\" + add_text_limiters(original_prompt) + \"\\n\\nGenerated prompt:\\n\" + add_text_limiters(generated_prompt), \n",
    "        xy=(1.05, 0.5), xycoords='axes fraction', ha='left', va='center', \n",
    "        fontsize=16, rotation=0, color=\"#104a6e\"\n",
    "    )"
   ]
  },
  {
   "cell_type": "code",
   "execution_count": 26,
   "id": "036a71d5",
   "metadata": {
    "execution": {
     "iopub.execute_input": "2023-05-15T04:05:03.048956Z",
     "iopub.status.busy": "2023-05-15T04:05:03.048048Z",
     "iopub.status.idle": "2023-05-15T04:05:03.139851Z",
     "shell.execute_reply": "2023-05-15T04:05:03.138900Z"
    },
    "papermill": {
     "duration": 0.108942,
     "end_time": "2023-05-15T04:05:03.142246",
     "exception": false,
     "start_time": "2023-05-15T04:05:03.033304",
     "status": "completed"
    },
    "tags": []
   },
   "outputs": [
    {
     "data": {
      "application/vnd.jupyter.widget-view+json": {
       "model_id": "ba0b78deb81f424ba9f677562b89dfaf",
       "version_major": 2,
       "version_minor": 0
      },
      "text/plain": [
       "Batches:   0%|          | 0/1 [00:00<?, ?it/s]"
      ]
     },
     "metadata": {},
     "output_type": "display_data"
    }
   ],
   "source": [
    "embeddings = st_model.encode(prompts).flatten()"
   ]
  },
  {
   "cell_type": "code",
   "execution_count": 28,
   "id": "b689ca8b",
   "metadata": {
    "execution": {
     "iopub.execute_input": "2023-05-15T04:05:03.465953Z",
     "iopub.status.busy": "2023-05-15T04:05:03.465062Z",
     "iopub.status.idle": "2023-05-15T04:05:03.471954Z",
     "shell.execute_reply": "2023-05-15T04:05:03.471041Z"
    },
    "papermill": {
     "duration": 0.024446,
     "end_time": "2023-05-15T04:05:03.474252",
     "exception": false,
     "start_time": "2023-05-15T04:05:03.449806",
     "status": "completed"
    },
    "tags": []
   },
   "outputs": [],
   "source": [
    "submission = pd.DataFrame(\n",
    "    index=imgId_eId,\n",
    "    data=embeddings,\n",
    "    columns=['val']\n",
    ").rename_axis('imgId_eId')"
   ]
  },
  {
   "cell_type": "code",
   "execution_count": 29,
   "id": "101b2f33",
   "metadata": {
    "execution": {
     "iopub.execute_input": "2023-05-15T04:05:03.504593Z",
     "iopub.status.busy": "2023-05-15T04:05:03.503985Z",
     "iopub.status.idle": "2023-05-15T04:05:03.519119Z",
     "shell.execute_reply": "2023-05-15T04:05:03.518026Z"
    },
    "papermill": {
     "duration": 0.033134,
     "end_time": "2023-05-15T04:05:03.521665",
     "exception": false,
     "start_time": "2023-05-15T04:05:03.488531",
     "status": "completed"
    },
    "tags": []
   },
   "outputs": [],
   "source": [
    "submission.to_csv('submission.csv')"
   ]
  }
 ],
 "metadata": {
  "kernelspec": {
   "display_name": "Python 3.8.10 64-bit",
   "language": "python",
   "name": "python3"
  },
  "language_info": {
   "codemirror_mode": {
    "name": "ipython",
    "version": 3
   },
   "file_extension": ".py",
   "mimetype": "text/x-python",
   "name": "python",
   "nbconvert_exporter": "python",
   "pygments_lexer": "ipython3",
   "version": "3.8.10"
  },
  "papermill": {
   "default_parameters": {},
   "duration": 229.586844,
   "end_time": "2023-05-15T04:05:07.354314",
   "environment_variables": {},
   "exception": null,
   "input_path": "__notebook__.ipynb",
   "output_path": "__notebook__.ipynb",
   "parameters": {},
   "start_time": "2023-05-15T04:01:17.767470",
   "version": "2.3.4"
  },
  "vscode": {
   "interpreter": {
    "hash": "31f2aee4e71d21fbe5cf8b01ff0e069b9275f58929596ceb00d14d90e3e16cd6"
   }
  },
  "widgets": {
   "application/vnd.jupyter.widget-state+json": {
    "state": {
     "015f7cb4a54f466e9279000091c5d82e": {
      "model_module": "@jupyter-widgets/controls",
      "model_module_version": "1.5.0",
      "model_name": "FloatProgressModel",
      "state": {
       "_dom_classes": [],
       "_model_module": "@jupyter-widgets/controls",
       "_model_module_version": "1.5.0",
       "_model_name": "FloatProgressModel",
       "_view_count": null,
       "_view_module": "@jupyter-widgets/controls",
       "_view_module_version": "1.5.0",
       "_view_name": "ProgressView",
       "bar_style": "success",
       "description": "",
       "description_tooltip": null,
       "layout": "IPY_MODEL_ca5cc01735f441afa91c8d8c2b14f0b4",
       "max": 1,
       "min": 0,
       "orientation": "horizontal",
       "style": "IPY_MODEL_2e1f111f28504d0ab65bbbaca8a2b948",
       "value": 1
      }
     },
     "16862bef395e4017a32f051a22f5e112": {
      "model_module": "@jupyter-widgets/base",
      "model_module_version": "1.2.0",
      "model_name": "LayoutModel",
      "state": {
       "_model_module": "@jupyter-widgets/base",
       "_model_module_version": "1.2.0",
       "_model_name": "LayoutModel",
       "_view_count": null,
       "_view_module": "@jupyter-widgets/base",
       "_view_module_version": "1.2.0",
       "_view_name": "LayoutView",
       "align_content": null,
       "align_items": null,
       "align_self": null,
       "border": null,
       "bottom": null,
       "display": null,
       "flex": null,
       "flex_flow": null,
       "grid_area": null,
       "grid_auto_columns": null,
       "grid_auto_flow": null,
       "grid_auto_rows": null,
       "grid_column": null,
       "grid_gap": null,
       "grid_row": null,
       "grid_template_areas": null,
       "grid_template_columns": null,
       "grid_template_rows": null,
       "height": null,
       "justify_content": null,
       "justify_items": null,
       "left": null,
       "margin": null,
       "max_height": null,
       "max_width": null,
       "min_height": null,
       "min_width": null,
       "object_fit": null,
       "object_position": null,
       "order": null,
       "overflow": null,
       "overflow_x": null,
       "overflow_y": null,
       "padding": null,
       "right": null,
       "top": null,
       "visibility": null,
       "width": null
      }
     },
     "1e2234aef92c4d8ca2d2cce061acac7e": {
      "model_module": "@jupyter-widgets/controls",
      "model_module_version": "1.5.0",
      "model_name": "DescriptionStyleModel",
      "state": {
       "_model_module": "@jupyter-widgets/controls",
       "_model_module_version": "1.5.0",
       "_model_name": "DescriptionStyleModel",
       "_view_count": null,
       "_view_module": "@jupyter-widgets/base",
       "_view_module_version": "1.2.0",
       "_view_name": "StyleView",
       "description_width": ""
      }
     },
     "272e1d6de1a8442894e615a184a2c57c": {
      "model_module": "@jupyter-widgets/controls",
      "model_module_version": "1.5.0",
      "model_name": "HTMLModel",
      "state": {
       "_dom_classes": [],
       "_model_module": "@jupyter-widgets/controls",
       "_model_module_version": "1.5.0",
       "_model_name": "HTMLModel",
       "_view_count": null,
       "_view_module": "@jupyter-widgets/controls",
       "_view_module_version": "1.5.0",
       "_view_name": "HTMLView",
       "description": "",
       "description_tooltip": null,
       "layout": "IPY_MODEL_16862bef395e4017a32f051a22f5e112",
       "placeholder": "​",
       "style": "IPY_MODEL_1e2234aef92c4d8ca2d2cce061acac7e",
       "value": "Batches: 100%"
      }
     },
     "2e1f111f28504d0ab65bbbaca8a2b948": {
      "model_module": "@jupyter-widgets/controls",
      "model_module_version": "1.5.0",
      "model_name": "ProgressStyleModel",
      "state": {
       "_model_module": "@jupyter-widgets/controls",
       "_model_module_version": "1.5.0",
       "_model_name": "ProgressStyleModel",
       "_view_count": null,
       "_view_module": "@jupyter-widgets/base",
       "_view_module_version": "1.2.0",
       "_view_name": "StyleView",
       "bar_color": null,
       "description_width": ""
      }
     },
     "542fa406413a4feca4e52f63ead10984": {
      "model_module": "@jupyter-widgets/controls",
      "model_module_version": "1.5.0",
      "model_name": "HTMLModel",
      "state": {
       "_dom_classes": [],
       "_model_module": "@jupyter-widgets/controls",
       "_model_module_version": "1.5.0",
       "_model_name": "HTMLModel",
       "_view_count": null,
       "_view_module": "@jupyter-widgets/controls",
       "_view_module_version": "1.5.0",
       "_view_name": "HTMLView",
       "description": "",
       "description_tooltip": null,
       "layout": "IPY_MODEL_85104c62165c456894ed15fa6e4959c6",
       "placeholder": "​",
       "style": "IPY_MODEL_f073bd95703849ca8d6c272c0859ade7",
       "value": " 1/1 [00:00&lt;00:00, 19.58it/s]"
      }
     },
     "85104c62165c456894ed15fa6e4959c6": {
      "model_module": "@jupyter-widgets/base",
      "model_module_version": "1.2.0",
      "model_name": "LayoutModel",
      "state": {
       "_model_module": "@jupyter-widgets/base",
       "_model_module_version": "1.2.0",
       "_model_name": "LayoutModel",
       "_view_count": null,
       "_view_module": "@jupyter-widgets/base",
       "_view_module_version": "1.2.0",
       "_view_name": "LayoutView",
       "align_content": null,
       "align_items": null,
       "align_self": null,
       "border": null,
       "bottom": null,
       "display": null,
       "flex": null,
       "flex_flow": null,
       "grid_area": null,
       "grid_auto_columns": null,
       "grid_auto_flow": null,
       "grid_auto_rows": null,
       "grid_column": null,
       "grid_gap": null,
       "grid_row": null,
       "grid_template_areas": null,
       "grid_template_columns": null,
       "grid_template_rows": null,
       "height": null,
       "justify_content": null,
       "justify_items": null,
       "left": null,
       "margin": null,
       "max_height": null,
       "max_width": null,
       "min_height": null,
       "min_width": null,
       "object_fit": null,
       "object_position": null,
       "order": null,
       "overflow": null,
       "overflow_x": null,
       "overflow_y": null,
       "padding": null,
       "right": null,
       "top": null,
       "visibility": null,
       "width": null
      }
     },
     "ba0b78deb81f424ba9f677562b89dfaf": {
      "model_module": "@jupyter-widgets/controls",
      "model_module_version": "1.5.0",
      "model_name": "HBoxModel",
      "state": {
       "_dom_classes": [],
       "_model_module": "@jupyter-widgets/controls",
       "_model_module_version": "1.5.0",
       "_model_name": "HBoxModel",
       "_view_count": null,
       "_view_module": "@jupyter-widgets/controls",
       "_view_module_version": "1.5.0",
       "_view_name": "HBoxView",
       "box_style": "",
       "children": [
        "IPY_MODEL_272e1d6de1a8442894e615a184a2c57c",
        "IPY_MODEL_015f7cb4a54f466e9279000091c5d82e",
        "IPY_MODEL_542fa406413a4feca4e52f63ead10984"
       ],
       "layout": "IPY_MODEL_fa4777e6e33441dd89ac44c1dde1c09f"
      }
     },
     "ca5cc01735f441afa91c8d8c2b14f0b4": {
      "model_module": "@jupyter-widgets/base",
      "model_module_version": "1.2.0",
      "model_name": "LayoutModel",
      "state": {
       "_model_module": "@jupyter-widgets/base",
       "_model_module_version": "1.2.0",
       "_model_name": "LayoutModel",
       "_view_count": null,
       "_view_module": "@jupyter-widgets/base",
       "_view_module_version": "1.2.0",
       "_view_name": "LayoutView",
       "align_content": null,
       "align_items": null,
       "align_self": null,
       "border": null,
       "bottom": null,
       "display": null,
       "flex": null,
       "flex_flow": null,
       "grid_area": null,
       "grid_auto_columns": null,
       "grid_auto_flow": null,
       "grid_auto_rows": null,
       "grid_column": null,
       "grid_gap": null,
       "grid_row": null,
       "grid_template_areas": null,
       "grid_template_columns": null,
       "grid_template_rows": null,
       "height": null,
       "justify_content": null,
       "justify_items": null,
       "left": null,
       "margin": null,
       "max_height": null,
       "max_width": null,
       "min_height": null,
       "min_width": null,
       "object_fit": null,
       "object_position": null,
       "order": null,
       "overflow": null,
       "overflow_x": null,
       "overflow_y": null,
       "padding": null,
       "right": null,
       "top": null,
       "visibility": null,
       "width": null
      }
     },
     "f073bd95703849ca8d6c272c0859ade7": {
      "model_module": "@jupyter-widgets/controls",
      "model_module_version": "1.5.0",
      "model_name": "DescriptionStyleModel",
      "state": {
       "_model_module": "@jupyter-widgets/controls",
       "_model_module_version": "1.5.0",
       "_model_name": "DescriptionStyleModel",
       "_view_count": null,
       "_view_module": "@jupyter-widgets/base",
       "_view_module_version": "1.2.0",
       "_view_name": "StyleView",
       "description_width": ""
      }
     },
     "fa4777e6e33441dd89ac44c1dde1c09f": {
      "model_module": "@jupyter-widgets/base",
      "model_module_version": "1.2.0",
      "model_name": "LayoutModel",
      "state": {
       "_model_module": "@jupyter-widgets/base",
       "_model_module_version": "1.2.0",
       "_model_name": "LayoutModel",
       "_view_count": null,
       "_view_module": "@jupyter-widgets/base",
       "_view_module_version": "1.2.0",
       "_view_name": "LayoutView",
       "align_content": null,
       "align_items": null,
       "align_self": null,
       "border": null,
       "bottom": null,
       "display": null,
       "flex": null,
       "flex_flow": null,
       "grid_area": null,
       "grid_auto_columns": null,
       "grid_auto_flow": null,
       "grid_auto_rows": null,
       "grid_column": null,
       "grid_gap": null,
       "grid_row": null,
       "grid_template_areas": null,
       "grid_template_columns": null,
       "grid_template_rows": null,
       "height": null,
       "justify_content": null,
       "justify_items": null,
       "left": null,
       "margin": null,
       "max_height": null,
       "max_width": null,
       "min_height": null,
       "min_width": null,
       "object_fit": null,
       "object_position": null,
       "order": null,
       "overflow": null,
       "overflow_x": null,
       "overflow_y": null,
       "padding": null,
       "right": null,
       "top": null,
       "visibility": null,
       "width": null
      }
     }
    },
    "version_major": 2,
    "version_minor": 0
   }
  }
 },
 "nbformat": 4,
 "nbformat_minor": 5
}
