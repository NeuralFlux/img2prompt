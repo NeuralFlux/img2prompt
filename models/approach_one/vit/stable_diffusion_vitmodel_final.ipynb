{
  "metadata": {
    "kernelspec": {
      "language": "python",
      "display_name": "Python 3",
      "name": "python3"
    },
    "language_info": {
      "name": "python",
      "version": "3.7.12",
      "mimetype": "text/x-python",
      "codemirror_mode": {
        "name": "ipython",
        "version": 3
      },
      "pygments_lexer": "ipython3",
      "nbconvert_exporter": "python",
      "file_extension": ".py"
    },
    "colab": {
      "provenance": []
    }
  },
  "nbformat_minor": 0,
  "nbformat": 4,
  "cells": [
    {
      "cell_type": "code",
      "source": [
        "import os\n",
        "import random\n",
        "import numpy as np\n",
        "import pandas as pd\n",
        "from PIL import Image\n",
        "from tqdm.notebook import tqdm\n",
        "from scipy import spatial\n",
        "from sklearn.model_selection import train_test_split\n",
        "import torch\n",
        "from torch import nn\n",
        "from torch.utils.data import Dataset, DataLoader\n",
        "from torch.optim.lr_scheduler import CosineAnnealingLR\n",
        "from torchvision import transforms\n",
        "import timm\n",
        "from timm.utils import AverageMeter\n",
        "import sys\n",
        "sys.path.append('../input/sentence-transformers-222/sentence-transformers')\n",
        "from sentence_transformers import SentenceTransformer"
      ],
      "metadata": {
        "execution": {
          "iopub.status.busy": "2023-05-16T17:09:05.258827Z",
          "iopub.execute_input": "2023-05-16T17:09:05.259779Z",
          "iopub.status.idle": "2023-05-16T17:09:05.267975Z",
          "shell.execute_reply.started": "2023-05-16T17:09:05.259735Z",
          "shell.execute_reply": "2023-05-16T17:09:05.266779Z"
        },
        "trusted": true,
        "id": "O7gRy681KYVa"
      },
      "execution_count": null,
      "outputs": []
    },
    {
      "cell_type": "code",
      "source": [
        "class CFG:\n",
        "    model_name = 'vit_base_patch16_224'\n",
        "    input_size = 224\n",
        "    batch_size = 64\n",
        "    num_epochs = 5\n",
        "    lr = 1e-4\n",
        "    seed = 42"
      ],
      "metadata": {
        "execution": {
          "iopub.status.busy": "2023-05-16T17:09:05.335446Z",
          "iopub.execute_input": "2023-05-16T17:09:05.336285Z",
          "iopub.status.idle": "2023-05-16T17:09:05.342199Z",
          "shell.execute_reply.started": "2023-05-16T17:09:05.336226Z",
          "shell.execute_reply": "2023-05-16T17:09:05.341135Z"
        },
        "trusted": true,
        "id": "-_EaJUL7KYVc"
      },
      "execution_count": null,
      "outputs": []
    },
    {
      "cell_type": "code",
      "source": [
        "def seed_everything(seed):\n",
        "    os.environ['PYTHONHASHSEED'] = str(seed)\n",
        "    random.seed(seed)\n",
        "    np.random.seed(seed)\n",
        "    torch.manual_seed(seed)\n",
        "    \n",
        "    if torch.cuda.is_available(): \n",
        "        torch.cuda.manual_seed(seed)\n",
        "        torch.backends.cudnn.deterministic = True\n",
        "\n",
        "\n",
        "seed_everything(CFG.seed)"
      ],
      "metadata": {
        "execution": {
          "iopub.status.busy": "2023-05-16T17:09:05.344765Z",
          "iopub.execute_input": "2023-05-16T17:09:05.345608Z",
          "iopub.status.idle": "2023-05-16T17:09:05.359165Z",
          "shell.execute_reply.started": "2023-05-16T17:09:05.345566Z",
          "shell.execute_reply": "2023-05-16T17:09:05.358028Z"
        },
        "trusted": true,
        "id": "-Y7eBq0rKYVd"
      },
      "execution_count": null,
      "outputs": []
    },
    {
      "cell_type": "code",
      "source": [
        "class DiffusionDataset(Dataset):\n",
        "    def __init__(self, df, transform):\n",
        "        self.df = df\n",
        "        self.transform = transform\n",
        "        \n",
        "    def __len__(self):\n",
        "        return len(self.df)\n",
        "\n",
        "    def __getitem__(self, idx):\n",
        "        row = self.df.iloc[idx]\n",
        "        image = Image.open(row['filepath'])\n",
        "        image = self.transform(image)\n",
        "        prompt = row['prompt']\n",
        "        return image, prompt\n",
        "\n",
        "\n",
        "class DiffusionCollator:\n",
        "    def __init__(self):\n",
        "        self.st_model = SentenceTransformer(\n",
        "            '/kaggle/input/sentence-transformers-222/all-MiniLM-L6-v2',\n",
        "            device='cpu'\n",
        "        )\n",
        "    \n",
        "    def __call__(self, batch):\n",
        "        images, prompts = zip(*batch)\n",
        "        images = torch.stack(images)\n",
        "        prompt_embeddings = self.st_model.encode(\n",
        "            prompts, \n",
        "            show_progress_bar=False, \n",
        "            convert_to_tensor=True\n",
        "        )\n",
        "        return images, prompt_embeddings\n",
        "    \n",
        "    \n",
        "def get_dataloaders(\n",
        "    trn_df,\n",
        "    val_df,\n",
        "    input_size,\n",
        "    batch_size\n",
        "):\n",
        "    transform = transforms.Compose([\n",
        "        transforms.Resize(input_size),\n",
        "        transforms.ToTensor(),\n",
        "        transforms.Normalize([0.485, 0.456, 0.406], [0.229, 0.224, 0.225]),\n",
        "    ])\n",
        "\n",
        "    trn_dataset = DiffusionDataset(trn_df, transform)\n",
        "    val_dataset = DiffusionDataset(val_df, transform)\n",
        "    collator = DiffusionCollator()\n",
        "    \n",
        "    dataloaders = {}\n",
        "    dataloaders['train'] = DataLoader(\n",
        "        dataset=trn_dataset,\n",
        "        shuffle=True,\n",
        "        batch_size=batch_size,\n",
        "        pin_memory=True,\n",
        "        num_workers=2,\n",
        "        drop_last=True,\n",
        "        collate_fn=collator\n",
        "    )\n",
        "    dataloaders['val'] = DataLoader(\n",
        "        dataset=val_dataset,\n",
        "        shuffle=False,\n",
        "        batch_size=batch_size,\n",
        "        pin_memory=True,\n",
        "        num_workers=2,\n",
        "        drop_last=False,\n",
        "        collate_fn=collator\n",
        "    )\n",
        "    return dataloaders"
      ],
      "metadata": {
        "execution": {
          "iopub.status.busy": "2023-05-16T17:09:05.361050Z",
          "iopub.execute_input": "2023-05-16T17:09:05.362003Z",
          "iopub.status.idle": "2023-05-16T17:09:05.378436Z",
          "shell.execute_reply.started": "2023-05-16T17:09:05.361957Z",
          "shell.execute_reply": "2023-05-16T17:09:05.377379Z"
        },
        "trusted": true,
        "id": "F-0EWv4iKYVd"
      },
      "execution_count": null,
      "outputs": []
    },
    {
      "cell_type": "code",
      "source": [
        "val_meters = {\n",
        "            'loss': AverageMeter(),\n",
        "            'cos': AverageMeter(),\n",
        "        }\n",
        "train_meters = {\n",
        "            'loss': AverageMeter(),\n",
        "            'cos': AverageMeter(),\n",
        "        }"
      ],
      "metadata": {
        "execution": {
          "iopub.status.busy": "2023-05-17T00:11:54.336865Z",
          "iopub.execute_input": "2023-05-17T00:11:54.337322Z",
          "iopub.status.idle": "2023-05-17T00:11:54.342905Z",
          "shell.execute_reply.started": "2023-05-17T00:11:54.337283Z",
          "shell.execute_reply": "2023-05-17T00:11:54.341792Z"
        },
        "trusted": true,
        "id": "1DrXoTpvKYVe"
      },
      "execution_count": null,
      "outputs": []
    },
    {
      "cell_type": "code",
      "source": [
        "def cosine_similarity(y_trues, y_preds):\n",
        "    return np.mean([\n",
        "        1 - spatial.distance.cosine(y_true, y_pred) \n",
        "        for y_true, y_pred in zip(y_trues, y_preds)\n",
        "    ])"
      ],
      "metadata": {
        "execution": {
          "iopub.status.busy": "2023-05-16T17:09:05.380292Z",
          "iopub.execute_input": "2023-05-16T17:09:05.380734Z",
          "iopub.status.idle": "2023-05-16T17:09:05.393921Z",
          "shell.execute_reply.started": "2023-05-16T17:09:05.380676Z",
          "shell.execute_reply": "2023-05-16T17:09:05.392779Z"
        },
        "trusted": true,
        "id": "I371F9zQKYVe"
      },
      "execution_count": null,
      "outputs": []
    },
    {
      "cell_type": "code",
      "source": [
        "def train(\n",
        "    trn_df,\n",
        "    val_df,\n",
        "    model_name,\n",
        "    input_size,\n",
        "    batch_size,\n",
        "    num_epochs,\n",
        "    lr\n",
        "):\n",
        "    device = torch.device('cuda' if torch.cuda.is_available() else 'cpu')\n",
        "    dataloaders = get_dataloaders(\n",
        "        trn_df,\n",
        "        val_df,\n",
        "        input_size,\n",
        "        batch_size\n",
        "    )\n",
        "\n",
        "    model = timm.create_model(\n",
        "        model_name,\n",
        "        pretrained=False,\n",
        "        num_classes=384\n",
        "    )\n",
        "    model.load_state_dict(torch.load('/kaggle/input/trained-vit-stablediffusion/vit_base_patch16_224.pth'))\n",
        "    model.set_grad_checkpointing()\n",
        "    model.to(device)\n",
        "    \n",
        "    optimizer = torch.optim.AdamW(model.parameters(), lr=lr)\n",
        "\n",
        "    ttl_iters = num_epochs * len(dataloaders['train'])\n",
        "    scheduler = CosineAnnealingLR(optimizer, T_max=ttl_iters, eta_min=1e-6)\n",
        "    criterion = nn.CosineEmbeddingLoss()\n",
        "    \n",
        "    best_score = -1.0\n",
        "\n",
        "    for epoch in range(num_epochs):\n",
        "        train_meters = {\n",
        "            'loss': AverageMeter(),\n",
        "            'cos': AverageMeter(),\n",
        "        }\n",
        "        model.train()\n",
        "        for X, y in tqdm(dataloaders['train'], leave=False):\n",
        "            X, y = X.to(device), y.to(device)\n",
        "\n",
        "            optimizer.zero_grad()\n",
        "            X_out = model(X)\n",
        "            target = torch.ones(X.size(0)).to(device)\n",
        "            loss = criterion(X_out, y, target)\n",
        "            loss.backward()\n",
        "\n",
        "            optimizer.step()\n",
        "            scheduler.step()\n",
        "\n",
        "            trn_loss = loss.item()\n",
        "            trn_cos = cosine_similarity(\n",
        "                X_out.detach().cpu().numpy(), \n",
        "                y.detach().cpu().numpy()\n",
        "            )\n",
        "\n",
        "            train_meters['loss'].update(trn_loss, n=X.size(0))\n",
        "            train_meters['cos'].update(trn_cos, n=X.size(0))\n",
        "\n",
        "        print('Epoch {:d} / trn/loss={:.4f}, trn/cos={:.4f}'.format(\n",
        "            epoch + 1,\n",
        "            train_meters['loss'].avg,\n",
        "            train_meters['cos'].avg))\n",
        "\n",
        "        val_meters = {\n",
        "            'loss': AverageMeter(),\n",
        "            'cos': AverageMeter(),\n",
        "        }\n",
        "        model.eval()\n",
        "        for X, y in tqdm(dataloaders['val'], leave=False):\n",
        "            X, y = X.to(device), y.to(device)\n",
        "\n",
        "            with torch.no_grad():\n",
        "                X_out = model(X)\n",
        "                target = torch.ones(X.size(0)).to(device)\n",
        "                loss = criterion(X_out, y, target)\n",
        "\n",
        "                val_loss = loss.item()\n",
        "                val_cos = cosine_similarity(\n",
        "                    X_out.detach().cpu().numpy(), \n",
        "                    y.detach().cpu().numpy()\n",
        "                )\n",
        "\n",
        "            val_meters['loss'].update(val_loss, n=X.size(0))\n",
        "            val_meters['cos'].update(val_cos, n=X.size(0))\n",
        "\n",
        "        print('Epoch {:d} / val/loss={:.4f}, val/cos={:.4f}'.format(\n",
        "            epoch + 1,\n",
        "            val_meters['loss'].avg,\n",
        "            val_meters['cos'].avg))\n",
        "        \n",
        "        if val_meters['cos'].avg > best_score:\n",
        "            best_score = val_meters['cos'].avg\n",
        "            torch.save(model.state_dict(), f'{model_name}.pth')\n",
        "\n",
        "df = pd.read_csv('/kaggle/working/update_diffusiondb.csv')\n",
        "trn_df, val_df = train_test_split(df, test_size=0.1, random_state=CFG.seed)"
      ],
      "metadata": {
        "execution": {
          "iopub.status.busy": "2023-05-16T17:09:36.336541Z",
          "iopub.execute_input": "2023-05-16T17:09:36.336940Z",
          "iopub.status.idle": "2023-05-16T17:09:36.709412Z",
          "shell.execute_reply.started": "2023-05-16T17:09:36.336905Z",
          "shell.execute_reply": "2023-05-16T17:09:36.708268Z"
        },
        "trusted": true,
        "id": "ybdqTFDPKYVe"
      },
      "execution_count": null,
      "outputs": []
    },
    {
      "cell_type": "code",
      "source": [
        "print(df.head)"
      ],
      "metadata": {
        "execution": {
          "iopub.status.busy": "2023-05-16T17:09:05.463528Z",
          "iopub.status.idle": "2023-05-16T17:09:05.464810Z",
          "shell.execute_reply.started": "2023-05-16T17:09:05.464487Z",
          "shell.execute_reply": "2023-05-16T17:09:05.464521Z"
        },
        "trusted": true,
        "id": "UbwjMv9IKYVf"
      },
      "execution_count": null,
      "outputs": []
    },
    {
      "cell_type": "code",
      "source": [
        "train(trn_df, val_df, CFG.model_name, CFG.input_size, CFG.batch_size, CFG.num_epochs, CFG.lr)"
      ],
      "metadata": {
        "execution": {
          "iopub.status.busy": "2023-05-16T17:09:41.005545Z",
          "iopub.execute_input": "2023-05-16T17:09:41.006749Z",
          "iopub.status.idle": "2023-05-16T23:26:36.834132Z",
          "shell.execute_reply.started": "2023-05-16T17:09:41.006695Z",
          "shell.execute_reply": "2023-05-16T23:26:36.832951Z"
        },
        "trusted": true,
        "colab": {
          "referenced_widgets": [
            ""
          ]
        },
        "id": "Ot7KAeRaKYVf",
        "outputId": "0acae03c-585b-41a8-a9cd-4abcf8aeda88"
      },
      "execution_count": null,
      "outputs": [
        {
          "output_type": "display_data",
          "data": {
            "text/plain": "  0%|          | 0/1467 [00:00<?, ?it/s]",
            "application/vnd.jupyter.widget-view+json": {
              "version_major": 2,
              "version_minor": 0,
              "model_id": ""
            }
          },
          "metadata": {}
        },
        {
          "name": "stdout",
          "text": "Epoch 1 / trn/loss=0.4033, trn/cos=0.5967\n",
          "output_type": "stream"
        },
        {
          "output_type": "display_data",
          "data": {
            "text/plain": "  0%|          | 0/163 [00:00<?, ?it/s]",
            "application/vnd.jupyter.widget-view+json": {
              "version_major": 2,
              "version_minor": 0,
              "model_id": ""
            }
          },
          "metadata": {}
        },
        {
          "name": "stderr",
          "text": "/opt/conda/lib/python3.7/site-packages/torch/utils/checkpoint.py:31: UserWarning: None of the inputs have requires_grad=True. Gradients will be None\n  warnings.warn(\"None of the inputs have requires_grad=True. Gradients will be None\")\n",
          "output_type": "stream"
        },
        {
          "name": "stdout",
          "text": "Epoch 1 / val/loss=0.4511, val/cos=0.5489\n",
          "output_type": "stream"
        },
        {
          "output_type": "display_data",
          "data": {
            "text/plain": "  0%|          | 0/1467 [00:00<?, ?it/s]",
            "application/vnd.jupyter.widget-view+json": {
              "version_major": 2,
              "version_minor": 0,
              "model_id": ""
            }
          },
          "metadata": {}
        },
        {
          "name": "stdout",
          "text": "Epoch 2 / trn/loss=0.3669, trn/cos=0.6331\n",
          "output_type": "stream"
        },
        {
          "output_type": "display_data",
          "data": {
            "text/plain": "  0%|          | 0/163 [00:00<?, ?it/s]",
            "application/vnd.jupyter.widget-view+json": {
              "version_major": 2,
              "version_minor": 0,
              "model_id": ""
            }
          },
          "metadata": {}
        },
        {
          "name": "stdout",
          "text": "Epoch 2 / val/loss=0.4461, val/cos=0.5539\n",
          "output_type": "stream"
        },
        {
          "output_type": "display_data",
          "data": {
            "text/plain": "  0%|          | 0/1467 [00:00<?, ?it/s]",
            "application/vnd.jupyter.widget-view+json": {
              "version_major": 2,
              "version_minor": 0,
              "model_id": ""
            }
          },
          "metadata": {}
        },
        {
          "name": "stdout",
          "text": "Epoch 3 / trn/loss=0.3226, trn/cos=0.6774\n",
          "output_type": "stream"
        },
        {
          "output_type": "display_data",
          "data": {
            "text/plain": "  0%|          | 0/163 [00:00<?, ?it/s]",
            "application/vnd.jupyter.widget-view+json": {
              "version_major": 2,
              "version_minor": 0,
              "model_id": ""
            }
          },
          "metadata": {}
        },
        {
          "name": "stdout",
          "text": "Epoch 3 / val/loss=0.4474, val/cos=0.5526\n",
          "output_type": "stream"
        },
        {
          "output_type": "display_data",
          "data": {
            "text/plain": "  0%|          | 0/1467 [00:00<?, ?it/s]",
            "application/vnd.jupyter.widget-view+json": {
              "version_major": 2,
              "version_minor": 0,
              "model_id": ""
            }
          },
          "metadata": {}
        },
        {
          "name": "stdout",
          "text": "Epoch 4 / trn/loss=0.2775, trn/cos=0.7225\n",
          "output_type": "stream"
        },
        {
          "output_type": "display_data",
          "data": {
            "text/plain": "  0%|          | 0/163 [00:00<?, ?it/s]",
            "application/vnd.jupyter.widget-view+json": {
              "version_major": 2,
              "version_minor": 0,
              "model_id": ""
            }
          },
          "metadata": {}
        },
        {
          "name": "stdout",
          "text": "Epoch 4 / val/loss=0.4536, val/cos=0.5464\n",
          "output_type": "stream"
        },
        {
          "output_type": "display_data",
          "data": {
            "text/plain": "  0%|          | 0/1467 [00:00<?, ?it/s]",
            "application/vnd.jupyter.widget-view+json": {
              "version_major": 2,
              "version_minor": 0,
              "model_id": ""
            }
          },
          "metadata": {}
        },
        {
          "name": "stdout",
          "text": "Epoch 5 / trn/loss=0.2468, trn/cos=0.7532\n",
          "output_type": "stream"
        },
        {
          "output_type": "display_data",
          "data": {
            "text/plain": "  0%|          | 0/163 [00:00<?, ?it/s]",
            "application/vnd.jupyter.widget-view+json": {
              "version_major": 2,
              "version_minor": 0,
              "model_id": ""
            }
          },
          "metadata": {}
        },
        {
          "name": "stdout",
          "text": "Epoch 5 / val/loss=0.4625, val/cos=0.5375\n",
          "output_type": "stream"
        }
      ]
    },
    {
      "cell_type": "code",
      "source": [
        "import csv\n",
        "\n",
        "# Open CSV file\n",
        "with open('/kaggle/input/diffusiondb-data-cleansing/diffusiondb.csv', newline='') as csvfile:\n",
        "    reader = csv.reader(csvfile)\n",
        "    # Find length of CSV file\n",
        "    length = len(list(reader))\n",
        "    print(f\"CSV file length: {length}\")\n",
        "    \n",
        "    "
      ],
      "metadata": {
        "execution": {
          "iopub.status.busy": "2023-05-16T17:09:14.508360Z",
          "iopub.execute_input": "2023-05-16T17:09:14.509177Z",
          "iopub.status.idle": "2023-05-16T17:09:15.756337Z",
          "shell.execute_reply.started": "2023-05-16T17:09:14.509134Z",
          "shell.execute_reply": "2023-05-16T17:09:15.755122Z"
        },
        "trusted": true,
        "id": "zARiFmR_KYVg",
        "outputId": "18380a92-59da-45ab-9d1f-3a25cfc289be"
      },
      "execution_count": null,
      "outputs": [
        {
          "name": "stdout",
          "text": "CSV file length: 154321\n",
          "output_type": "stream"
        }
      ]
    },
    {
      "cell_type": "code",
      "source": [
        "import pandas as pd\n",
        "\n",
        "# Specify the path to your input CSV file\n",
        "input_csv_path = '/kaggle/input/diffusiondb-data-cleansing/diffusiondb.csv'\n",
        "\n",
        "# Specify the path for the output CSV file\n",
        "output_csv_path = 'test.csv'\n",
        "\n",
        "# Read the input CSV file using pandas\n",
        "data_frame = pd.read_csv(input_csv_path)\n",
        "\n",
        "# Get the last 15,000 rows\n",
        "last_15000_rows = data_frame.tail(15000)\n",
        "\n",
        "# Save the last 15,000 rows to the output CSV file\n",
        "last_15000_rows.to_csv(output_csv_path, index=False)"
      ],
      "metadata": {
        "execution": {
          "iopub.status.busy": "2023-05-16T23:28:32.840886Z",
          "iopub.execute_input": "2023-05-16T23:28:32.842284Z",
          "iopub.status.idle": "2023-05-16T23:28:33.904638Z",
          "shell.execute_reply.started": "2023-05-16T23:28:32.842214Z",
          "shell.execute_reply": "2023-05-16T23:28:33.903482Z"
        },
        "trusted": true,
        "id": "m6c0KSQFKYVg"
      },
      "execution_count": null,
      "outputs": []
    },
    {
      "cell_type": "code",
      "source": [
        "import csv\n",
        "\n",
        "# Open original CSV file and new CSV file\n",
        "with open('/kaggle/input/diffusiondb-data-cleansing/diffusiondb.csv', newline='') as csvfile, open('update_diffusiondb.csv', 'w', newline='') as newfile:\n",
        "    reader = csv.reader(csvfile)\n",
        "    writer = csv.writer(newfile)\n",
        "    # Slice to remove the last 50k rows\n",
        "    rows_to_keep = list(reader)[:-50000]\n",
        "    # Write remaining rows to new file\n",
        "    writer.writerows(rows_to_keep)"
      ],
      "metadata": {
        "execution": {
          "iopub.status.busy": "2023-05-16T17:09:17.311916Z",
          "iopub.execute_input": "2023-05-16T17:09:17.312338Z",
          "iopub.status.idle": "2023-05-16T17:09:18.815591Z",
          "shell.execute_reply.started": "2023-05-16T17:09:17.312300Z",
          "shell.execute_reply": "2023-05-16T17:09:18.814367Z"
        },
        "trusted": true,
        "id": "BI9ZpEilKYVg"
      },
      "execution_count": null,
      "outputs": []
    },
    {
      "cell_type": "code",
      "source": [
        "test_df = pd.read_csv('/kaggle/working/test.csv')\n",
        "#trn_df, val_df = train_test_split(df, test_size=0.1, random_state=CFG.seed)\n"
      ],
      "metadata": {
        "execution": {
          "iopub.status.busy": "2023-05-16T23:31:29.489208Z",
          "iopub.execute_input": "2023-05-16T23:31:29.490004Z",
          "iopub.status.idle": "2023-05-16T23:31:29.532482Z",
          "shell.execute_reply.started": "2023-05-16T23:31:29.489961Z",
          "shell.execute_reply": "2023-05-16T23:31:29.531388Z"
        },
        "trusted": true,
        "id": "ogcWVkcbKYVh"
      },
      "execution_count": null,
      "outputs": []
    },
    {
      "cell_type": "code",
      "source": [
        "transform = transforms.Compose([\n",
        "        transforms.Resize(CFG.input_size),\n",
        "        transforms.ToTensor(),\n",
        "        transforms.Normalize([0.485, 0.456, 0.406], [0.229, 0.224, 0.225]),\n",
        "    ])\n",
        "collator = DiffusionCollator()\n",
        "test_dataset = DiffusionDataset(test_df, transform)\n",
        "dataloader = DataLoader(\n",
        "        dataset=test_dataset,\n",
        "        shuffle=True,\n",
        "        batch_size=CFG.batch_size,\n",
        "        pin_memory=True,\n",
        "        num_workers=2,\n",
        "        drop_last=True,\n",
        "        collate_fn=collator\n",
        "    )"
      ],
      "metadata": {
        "execution": {
          "iopub.status.busy": "2023-05-16T23:32:24.593567Z",
          "iopub.execute_input": "2023-05-16T23:32:24.594385Z",
          "iopub.status.idle": "2023-05-16T23:32:26.448384Z",
          "shell.execute_reply.started": "2023-05-16T23:32:24.594342Z",
          "shell.execute_reply": "2023-05-16T23:32:26.447209Z"
        },
        "trusted": true,
        "id": "ZIyD5jjAKYVh"
      },
      "execution_count": null,
      "outputs": []
    },
    {
      "cell_type": "code",
      "source": [
        "device = torch.device('cuda' if torch.cuda.is_available() else 'cpu')\n",
        "model = timm.create_model(\n",
        "    CFG.model_name,\n",
        "    pretrained=False,   # Make sure to set this to False since we are loading custom weights\n",
        "    num_classes=384\n",
        ").to(device)\n",
        "model.load_state_dict(torch.load('/kaggle/input/vit-8epochs/vit_base_patch16_224.pth'))\n"
      ],
      "metadata": {
        "execution": {
          "iopub.status.busy": "2023-05-16T23:39:09.189214Z",
          "iopub.execute_input": "2023-05-16T23:39:09.189671Z",
          "iopub.status.idle": "2023-05-16T23:39:11.066332Z",
          "shell.execute_reply.started": "2023-05-16T23:39:09.189632Z",
          "shell.execute_reply": "2023-05-16T23:39:11.065256Z"
        },
        "trusted": true,
        "id": "v14AuhzGKYVh",
        "outputId": "16e08ac9-95f5-4ad3-90fa-a8dd9820e702"
      },
      "execution_count": null,
      "outputs": [
        {
          "execution_count": 23,
          "output_type": "execute_result",
          "data": {
            "text/plain": "<All keys matched successfully>"
          },
          "metadata": {}
        }
      ]
    },
    {
      "cell_type": "code",
      "source": [
        "predictions = []\n",
        "device = torch.device('cuda' if torch.cuda.is_available() else 'cpu')\n",
        "\n",
        "for X, y in tqdm(dataloader, leave=False):\n",
        "    X, y = X.to(device), y.to(device)\n",
        "    with torch.no_grad():\n",
        "        for batch in dataloader:\n",
        "            X_out = model(X)\n",
        "            val_cos = cosine_similarity(\n",
        "                X_out.detach().cpu().numpy(), \n",
        "                y.detach().cpu().numpy()\n",
        "            )\n",
        "            predictions.append(val_cos)\n",
        "print(\"Cosine Similarity: \"+sum(predictions)/len(predictions))\n"
      ],
      "metadata": {
        "execution": {
          "iopub.status.busy": "2023-05-17T00:41:34.225334Z",
          "iopub.execute_input": "2023-05-17T00:41:34.226428Z",
          "iopub.status.idle": "2023-05-17T00:41:34.233576Z",
          "shell.execute_reply.started": "2023-05-17T00:41:34.226368Z",
          "shell.execute_reply": "2023-05-17T00:41:34.232353Z"
        },
        "trusted": true,
        "id": "JeDzYp3IKYVh",
        "outputId": "b136a83e-deff-43cc-a250-4f4364eab09b"
      },
      "execution_count": null,
      "outputs": [
        {
          "name": "stdout",
          "text": "Cosine Similarity: 0.337825\n",
          "output_type": "stream"
        }
      ]
    },
    {
      "cell_type": "code",
      "source": [
        "import plotly.graph_objects as go\n",
        "import plotly.io as pio\n",
        "x = [i for i in range(1,8)]\n",
        "y1 = train_meters['loss']\n",
        "y2 = train_meters['cos']\n",
        "z1 = val_meters['loss']\n",
        "z2 = val_meters['cos']\n",
        "trace1 = go.Scatter(x=x, y=y1, mode='lines', name='Train Loss', line=dict(color=\"red\"))\n",
        "trace2 = go.Scatter(x=x, y=y2, mode='lines', name='Train Cosine Similarity', line=dict(color=\"blue\"))\n",
        "trace3 = go.Scatter(x=x, y=z1, mode='lines', name='Validation Loss', line=dict(color=\"green\"))\n",
        "trace4 = go.Scatter(x=x, y=z2, mode='lines', name='Validation Cosine Similarity', line=dict(color=\"black\"))\n",
        "layout = go.Layout(title='ViT Model for Image Prompt Generation', xaxis=dict(title='Number of epochs'), yaxis=dict(title='Value'))\n",
        "fig = go.Figure(data=[trace1, trace2, trace3, trace4], layout=layout)\n",
        "fig.show()\n",
        "pio.write_image(fig,\"vit_plot.png\")"
      ],
      "metadata": {
        "execution": {
          "iopub.status.busy": "2023-05-17T00:10:15.626562Z",
          "iopub.execute_input": "2023-05-17T00:10:15.627880Z",
          "iopub.status.idle": "2023-05-17T00:10:15.652973Z",
          "shell.execute_reply.started": "2023-05-17T00:10:15.627826Z",
          "shell.execute_reply": "2023-05-17T00:10:15.651530Z"
        },
        "trusted": true,
        "colab": {
          "base_uri": "https://localhost:8080/",
          "height": 542
        },
        "id": "m9VgIoNgKYVh",
        "outputId": "bfd5dbee-d06f-4023-cb43-1fc8d1a03cc6"
      },
      "execution_count": 16,
      "outputs": [
        {
          "output_type": "display_data",
          "data": {
            "text/html": [
              "<html>\n",
              "<head><meta charset=\"utf-8\" /></head>\n",
              "<body>\n",
              "    <div>            <script src=\"https://cdnjs.cloudflare.com/ajax/libs/mathjax/2.7.5/MathJax.js?config=TeX-AMS-MML_SVG\"></script><script type=\"text/javascript\">if (window.MathJax && window.MathJax.Hub && window.MathJax.Hub.Config) {window.MathJax.Hub.Config({SVG: {font: \"STIX-Web\"}});}</script>                <script type=\"text/javascript\">window.PlotlyConfig = {MathJaxConfig: 'local'};</script>\n",
              "        <script src=\"https://cdn.plot.ly/plotly-2.18.2.min.js\"></script>                <div id=\"49522058-807d-474f-af73-c4cd8f59081b\" class=\"plotly-graph-div\" style=\"height:525px; width:100%;\"></div>            <script type=\"text/javascript\">                                    window.PLOTLYENV=window.PLOTLYENV || {};                                    if (document.getElementById(\"49522058-807d-474f-af73-c4cd8f59081b\")) {                    Plotly.newPlot(                        \"49522058-807d-474f-af73-c4cd8f59081b\",                        [{\"line\":{\"color\":\"red\"},\"mode\":\"lines\",\"name\":\"Train Loss\",\"x\":[1,2,3,4,5,6,7],\"y\":[0.5078,0.4329,0.3822,0.4033,0.3669,0.3226,0.2775,0.2468],\"type\":\"scatter\"},{\"line\":{\"color\":\"blue\"},\"mode\":\"lines\",\"name\":\"Train Cosine Similarity\",\"x\":[1,2,3,4,5,6,7],\"y\":[0.4922,0.5671,0.6178,0.5967,0.6331,0.6774,0.7225,0.7532],\"type\":\"scatter\"},{\"line\":{\"color\":\"green\"},\"mode\":\"lines\",\"name\":\"Validation Loss\",\"x\":[1,2,3,4,5,6,7],\"y\":[0.4688,0.4427,0.441,0.4511,0.4461,0.4474,0.4536,0.4625],\"type\":\"scatter\"},{\"line\":{\"color\":\"black\"},\"mode\":\"lines\",\"name\":\"Validation Cosine Similarity\",\"x\":[1,2,3,4,5,6,7],\"y\":[0.5312,0.5573,0.559,0.5489,0.5539,0.5526,0.5464,0.5375],\"type\":\"scatter\"}],                        {\"title\":{\"text\":\"ViT Model for Image Prompt Generation\"},\"xaxis\":{\"title\":{\"text\":\"Number of epochs\"}},\"yaxis\":{\"title\":{\"text\":\"Value\"}},\"template\":{\"data\":{\"histogram2dcontour\":[{\"type\":\"histogram2dcontour\",\"colorbar\":{\"outlinewidth\":0,\"ticks\":\"\"},\"colorscale\":[[0.0,\"#0d0887\"],[0.1111111111111111,\"#46039f\"],[0.2222222222222222,\"#7201a8\"],[0.3333333333333333,\"#9c179e\"],[0.4444444444444444,\"#bd3786\"],[0.5555555555555556,\"#d8576b\"],[0.6666666666666666,\"#ed7953\"],[0.7777777777777778,\"#fb9f3a\"],[0.8888888888888888,\"#fdca26\"],[1.0,\"#f0f921\"]]}],\"choropleth\":[{\"type\":\"choropleth\",\"colorbar\":{\"outlinewidth\":0,\"ticks\":\"\"}}],\"histogram2d\":[{\"type\":\"histogram2d\",\"colorbar\":{\"outlinewidth\":0,\"ticks\":\"\"},\"colorscale\":[[0.0,\"#0d0887\"],[0.1111111111111111,\"#46039f\"],[0.2222222222222222,\"#7201a8\"],[0.3333333333333333,\"#9c179e\"],[0.4444444444444444,\"#bd3786\"],[0.5555555555555556,\"#d8576b\"],[0.6666666666666666,\"#ed7953\"],[0.7777777777777778,\"#fb9f3a\"],[0.8888888888888888,\"#fdca26\"],[1.0,\"#f0f921\"]]}],\"heatmap\":[{\"type\":\"heatmap\",\"colorbar\":{\"outlinewidth\":0,\"ticks\":\"\"},\"colorscale\":[[0.0,\"#0d0887\"],[0.1111111111111111,\"#46039f\"],[0.2222222222222222,\"#7201a8\"],[0.3333333333333333,\"#9c179e\"],[0.4444444444444444,\"#bd3786\"],[0.5555555555555556,\"#d8576b\"],[0.6666666666666666,\"#ed7953\"],[0.7777777777777778,\"#fb9f3a\"],[0.8888888888888888,\"#fdca26\"],[1.0,\"#f0f921\"]]}],\"heatmapgl\":[{\"type\":\"heatmapgl\",\"colorbar\":{\"outlinewidth\":0,\"ticks\":\"\"},\"colorscale\":[[0.0,\"#0d0887\"],[0.1111111111111111,\"#46039f\"],[0.2222222222222222,\"#7201a8\"],[0.3333333333333333,\"#9c179e\"],[0.4444444444444444,\"#bd3786\"],[0.5555555555555556,\"#d8576b\"],[0.6666666666666666,\"#ed7953\"],[0.7777777777777778,\"#fb9f3a\"],[0.8888888888888888,\"#fdca26\"],[1.0,\"#f0f921\"]]}],\"contourcarpet\":[{\"type\":\"contourcarpet\",\"colorbar\":{\"outlinewidth\":0,\"ticks\":\"\"}}],\"contour\":[{\"type\":\"contour\",\"colorbar\":{\"outlinewidth\":0,\"ticks\":\"\"},\"colorscale\":[[0.0,\"#0d0887\"],[0.1111111111111111,\"#46039f\"],[0.2222222222222222,\"#7201a8\"],[0.3333333333333333,\"#9c179e\"],[0.4444444444444444,\"#bd3786\"],[0.5555555555555556,\"#d8576b\"],[0.6666666666666666,\"#ed7953\"],[0.7777777777777778,\"#fb9f3a\"],[0.8888888888888888,\"#fdca26\"],[1.0,\"#f0f921\"]]}],\"surface\":[{\"type\":\"surface\",\"colorbar\":{\"outlinewidth\":0,\"ticks\":\"\"},\"colorscale\":[[0.0,\"#0d0887\"],[0.1111111111111111,\"#46039f\"],[0.2222222222222222,\"#7201a8\"],[0.3333333333333333,\"#9c179e\"],[0.4444444444444444,\"#bd3786\"],[0.5555555555555556,\"#d8576b\"],[0.6666666666666666,\"#ed7953\"],[0.7777777777777778,\"#fb9f3a\"],[0.8888888888888888,\"#fdca26\"],[1.0,\"#f0f921\"]]}],\"mesh3d\":[{\"type\":\"mesh3d\",\"colorbar\":{\"outlinewidth\":0,\"ticks\":\"\"}}],\"scatter\":[{\"fillpattern\":{\"fillmode\":\"overlay\",\"size\":10,\"solidity\":0.2},\"type\":\"scatter\"}],\"parcoords\":[{\"type\":\"parcoords\",\"line\":{\"colorbar\":{\"outlinewidth\":0,\"ticks\":\"\"}}}],\"scatterpolargl\":[{\"type\":\"scatterpolargl\",\"marker\":{\"colorbar\":{\"outlinewidth\":0,\"ticks\":\"\"}}}],\"bar\":[{\"error_x\":{\"color\":\"#2a3f5f\"},\"error_y\":{\"color\":\"#2a3f5f\"},\"marker\":{\"line\":{\"color\":\"#E5ECF6\",\"width\":0.5},\"pattern\":{\"fillmode\":\"overlay\",\"size\":10,\"solidity\":0.2}},\"type\":\"bar\"}],\"scattergeo\":[{\"type\":\"scattergeo\",\"marker\":{\"colorbar\":{\"outlinewidth\":0,\"ticks\":\"\"}}}],\"scatterpolar\":[{\"type\":\"scatterpolar\",\"marker\":{\"colorbar\":{\"outlinewidth\":0,\"ticks\":\"\"}}}],\"histogram\":[{\"marker\":{\"pattern\":{\"fillmode\":\"overlay\",\"size\":10,\"solidity\":0.2}},\"type\":\"histogram\"}],\"scattergl\":[{\"type\":\"scattergl\",\"marker\":{\"colorbar\":{\"outlinewidth\":0,\"ticks\":\"\"}}}],\"scatter3d\":[{\"type\":\"scatter3d\",\"line\":{\"colorbar\":{\"outlinewidth\":0,\"ticks\":\"\"}},\"marker\":{\"colorbar\":{\"outlinewidth\":0,\"ticks\":\"\"}}}],\"scattermapbox\":[{\"type\":\"scattermapbox\",\"marker\":{\"colorbar\":{\"outlinewidth\":0,\"ticks\":\"\"}}}],\"scatterternary\":[{\"type\":\"scatterternary\",\"marker\":{\"colorbar\":{\"outlinewidth\":0,\"ticks\":\"\"}}}],\"scattercarpet\":[{\"type\":\"scattercarpet\",\"marker\":{\"colorbar\":{\"outlinewidth\":0,\"ticks\":\"\"}}}],\"carpet\":[{\"aaxis\":{\"endlinecolor\":\"#2a3f5f\",\"gridcolor\":\"white\",\"linecolor\":\"white\",\"minorgridcolor\":\"white\",\"startlinecolor\":\"#2a3f5f\"},\"baxis\":{\"endlinecolor\":\"#2a3f5f\",\"gridcolor\":\"white\",\"linecolor\":\"white\",\"minorgridcolor\":\"white\",\"startlinecolor\":\"#2a3f5f\"},\"type\":\"carpet\"}],\"table\":[{\"cells\":{\"fill\":{\"color\":\"#EBF0F8\"},\"line\":{\"color\":\"white\"}},\"header\":{\"fill\":{\"color\":\"#C8D4E3\"},\"line\":{\"color\":\"white\"}},\"type\":\"table\"}],\"barpolar\":[{\"marker\":{\"line\":{\"color\":\"#E5ECF6\",\"width\":0.5},\"pattern\":{\"fillmode\":\"overlay\",\"size\":10,\"solidity\":0.2}},\"type\":\"barpolar\"}],\"pie\":[{\"automargin\":true,\"type\":\"pie\"}]},\"layout\":{\"autotypenumbers\":\"strict\",\"colorway\":[\"#636efa\",\"#EF553B\",\"#00cc96\",\"#ab63fa\",\"#FFA15A\",\"#19d3f3\",\"#FF6692\",\"#B6E880\",\"#FF97FF\",\"#FECB52\"],\"font\":{\"color\":\"#2a3f5f\"},\"hovermode\":\"closest\",\"hoverlabel\":{\"align\":\"left\"},\"paper_bgcolor\":\"white\",\"plot_bgcolor\":\"#E5ECF6\",\"polar\":{\"bgcolor\":\"#E5ECF6\",\"angularaxis\":{\"gridcolor\":\"white\",\"linecolor\":\"white\",\"ticks\":\"\"},\"radialaxis\":{\"gridcolor\":\"white\",\"linecolor\":\"white\",\"ticks\":\"\"}},\"ternary\":{\"bgcolor\":\"#E5ECF6\",\"aaxis\":{\"gridcolor\":\"white\",\"linecolor\":\"white\",\"ticks\":\"\"},\"baxis\":{\"gridcolor\":\"white\",\"linecolor\":\"white\",\"ticks\":\"\"},\"caxis\":{\"gridcolor\":\"white\",\"linecolor\":\"white\",\"ticks\":\"\"}},\"coloraxis\":{\"colorbar\":{\"outlinewidth\":0,\"ticks\":\"\"}},\"colorscale\":{\"sequential\":[[0.0,\"#0d0887\"],[0.1111111111111111,\"#46039f\"],[0.2222222222222222,\"#7201a8\"],[0.3333333333333333,\"#9c179e\"],[0.4444444444444444,\"#bd3786\"],[0.5555555555555556,\"#d8576b\"],[0.6666666666666666,\"#ed7953\"],[0.7777777777777778,\"#fb9f3a\"],[0.8888888888888888,\"#fdca26\"],[1.0,\"#f0f921\"]],\"sequentialminus\":[[0.0,\"#0d0887\"],[0.1111111111111111,\"#46039f\"],[0.2222222222222222,\"#7201a8\"],[0.3333333333333333,\"#9c179e\"],[0.4444444444444444,\"#bd3786\"],[0.5555555555555556,\"#d8576b\"],[0.6666666666666666,\"#ed7953\"],[0.7777777777777778,\"#fb9f3a\"],[0.8888888888888888,\"#fdca26\"],[1.0,\"#f0f921\"]],\"diverging\":[[0,\"#8e0152\"],[0.1,\"#c51b7d\"],[0.2,\"#de77ae\"],[0.3,\"#f1b6da\"],[0.4,\"#fde0ef\"],[0.5,\"#f7f7f7\"],[0.6,\"#e6f5d0\"],[0.7,\"#b8e186\"],[0.8,\"#7fbc41\"],[0.9,\"#4d9221\"],[1,\"#276419\"]]},\"xaxis\":{\"gridcolor\":\"white\",\"linecolor\":\"white\",\"ticks\":\"\",\"title\":{\"standoff\":15},\"zerolinecolor\":\"white\",\"automargin\":true,\"zerolinewidth\":2},\"yaxis\":{\"gridcolor\":\"white\",\"linecolor\":\"white\",\"ticks\":\"\",\"title\":{\"standoff\":15},\"zerolinecolor\":\"white\",\"automargin\":true,\"zerolinewidth\":2},\"scene\":{\"xaxis\":{\"backgroundcolor\":\"#E5ECF6\",\"gridcolor\":\"white\",\"linecolor\":\"white\",\"showbackground\":true,\"ticks\":\"\",\"zerolinecolor\":\"white\",\"gridwidth\":2},\"yaxis\":{\"backgroundcolor\":\"#E5ECF6\",\"gridcolor\":\"white\",\"linecolor\":\"white\",\"showbackground\":true,\"ticks\":\"\",\"zerolinecolor\":\"white\",\"gridwidth\":2},\"zaxis\":{\"backgroundcolor\":\"#E5ECF6\",\"gridcolor\":\"white\",\"linecolor\":\"white\",\"showbackground\":true,\"ticks\":\"\",\"zerolinecolor\":\"white\",\"gridwidth\":2}},\"shapedefaults\":{\"line\":{\"color\":\"#2a3f5f\"}},\"annotationdefaults\":{\"arrowcolor\":\"#2a3f5f\",\"arrowhead\":0,\"arrowwidth\":1},\"geo\":{\"bgcolor\":\"white\",\"landcolor\":\"#E5ECF6\",\"subunitcolor\":\"white\",\"showland\":true,\"showlakes\":true,\"lakecolor\":\"white\"},\"title\":{\"x\":0.05},\"mapbox\":{\"style\":\"light\"}}}},                        {\"responsive\": true}                    ).then(function(){\n",
              "                            \n",
              "var gd = document.getElementById('49522058-807d-474f-af73-c4cd8f59081b');\n",
              "var x = new MutationObserver(function (mutations, observer) {{\n",
              "        var display = window.getComputedStyle(gd).display;\n",
              "        if (!display || display === 'none') {{\n",
              "            console.log([gd, 'removed!']);\n",
              "            Plotly.purge(gd);\n",
              "            observer.disconnect();\n",
              "        }}\n",
              "}});\n",
              "\n",
              "// Listen for the removal of the full notebook cells\n",
              "var notebookContainer = gd.closest('#notebook-container');\n",
              "if (notebookContainer) {{\n",
              "    x.observe(notebookContainer, {childList: true});\n",
              "}}\n",
              "\n",
              "// Listen for the clearing of the current output cell\n",
              "var outputEl = gd.closest('.output');\n",
              "if (outputEl) {{\n",
              "    x.observe(outputEl, {childList: true});\n",
              "}}\n",
              "\n",
              "                        })                };                            </script>        </div>\n",
              "</body>\n",
              "</html>"
            ]
          },
          "metadata": {}
        }
      ]
    },
    {
      "cell_type": "code",
      "source": [
        "from PIL import Image\n",
        "image_path = 'vit_plot.png'\n",
        "image = Image.open(image_path)\n",
        "image.show()"
      ],
      "metadata": {
        "colab": {
          "base_uri": "https://localhost:8080/",
          "height": 542
        },
        "id": "SdryOL6oM0fi",
        "outputId": "f8baff7a-3acc-413f-b2b1-de8cf070a3a5"
      },
      "execution_count": 17,
      "outputs": [
        {
          "output_type": "display_data",
          "data": {
            "text/plain": [
              "<PIL.PngImagePlugin.PngImageFile image mode=RGBA size=812x525 at 0x7EFCEF9F90F0>"
            ],
            "image/png": "[encoded data removed]"
          },
          "metadata": {}
        }
      ]
    }
  ]
}